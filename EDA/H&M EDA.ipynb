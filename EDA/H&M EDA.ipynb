{
 "cells": [
  {
   "cell_type": "markdown",
   "metadata": {},
   "source": [
    "# 1 Combine datasets so EDA can be performed on final dataset"
   ]
  },
  {
   "cell_type": "markdown",
   "metadata": {},
   "source": [
    "## 1.1 Import libraries"
   ]
  },
  {
   "cell_type": "code",
   "execution_count": 1,
   "metadata": {},
   "outputs": [],
   "source": [
    "import pandas as pd"
   ]
  },
  {
   "cell_type": "markdown",
   "metadata": {},
   "source": [
    "## 1.2 Read all relevant data"
   ]
  },
  {
   "cell_type": "code",
   "execution_count": 2,
   "metadata": {},
   "outputs": [
    {
     "name": "stdout",
     "output_type": "stream",
     "text": [
      "-----Initial dataframes----\n",
      "Articles Dataframe shape: (105542, 25)\n",
      "Articles Columns: ['article_id', 'product_code', 'prod_name', 'product_type_no', 'product_type_name', 'product_group_name', 'graphical_appearance_no', 'graphical_appearance_name', 'colour_group_code', 'colour_group_name', 'perceived_colour_value_id', 'perceived_colour_value_name', 'perceived_colour_master_id', 'perceived_colour_master_name', 'department_no', 'department_name', 'index_code', 'index_name', 'index_group_no', 'index_group_name', 'section_no', 'section_name', 'garment_group_no', 'garment_group_name', 'detail_desc']\n",
      "\n",
      "Customers Dataframe shape: (1371980, 7)\n",
      "Customers Columns: ['customer_id', 'FN', 'Active', 'club_member_status', 'fashion_news_frequency', 'age', 'postal_code']\n",
      "\n",
      "Transactions Dataframe shape: (31788324, 5)\n",
      "Transactions Columns: ['t_dat', 'customer_id', 'article_id', 'price', 'sales_channel_id']\n"
     ]
    }
   ],
   "source": [
    "# Read all data\n",
    "print('-----Initial dataframes----')\n",
    "articles = pd.read_csv('data/articles.csv')\n",
    "print('Articles Dataframe shape:',articles.shape)\n",
    "print('Articles Columns:',list(articles.columns))\n",
    "\n",
    "customers = pd.read_csv('data/customers.csv')\n",
    "print('\\nCustomers Dataframe shape:',customers.shape)\n",
    "print('Customers Columns:',list(customers.columns))\n",
    "\n",
    "transactions = pd.read_csv('data/transactions_train.csv')\n",
    "print('\\nTransactions Dataframe shape:',transactions.shape)\n",
    "print('Transactions Columns:',list(transactions.columns))"
   ]
  },
  {
   "cell_type": "code",
   "execution_count": 3,
   "metadata": {},
   "outputs": [
    {
     "name": "stdout",
     "output_type": "stream",
     "text": [
      "-----Filtered dataframes----\n",
      "Articles Dataframe shape: (105542, 14)\n",
      "Articles Columns: ['article_id', 'prod_name', 'product_type_name', 'product_group_name', 'graphical_appearance_name', 'colour_group_name', 'perceived_colour_value_name', 'perceived_colour_master_name', 'department_name', 'index_name', 'index_group_name', 'section_name', 'garment_group_name', 'detail_desc']\n",
      "\n",
      "Customers Dataframe shape: (1371980, 6)\n",
      "Customers Columns: ['customer_id', 'Active', 'club_member_status', 'fashion_news_frequency', 'age', 'postal_code']\n",
      "\n",
      "Transactions Dataframe shape: (31788324, 5)\n",
      "Transactions Columns: ['t_dat', 'customer_id', 'article_id', 'price', 'sales_channel_id']\n"
     ]
    }
   ],
   "source": [
    "# Subset relevant columns\n",
    "print('-----Filtered dataframes----')\n",
    "\n",
    "articles_cols = ['article_id', 'prod_name', 'product_type_name', 'product_group_name', \\\n",
    "                 'graphical_appearance_name', 'colour_group_name', \\\n",
    "                 'perceived_colour_value_name', 'perceived_colour_master_name', \\\n",
    "                 'department_name', 'index_name', 'index_group_name', 'section_name', \\\n",
    "                 'garment_group_name', 'detail_desc']\n",
    "articles = articles.loc[:,articles_cols]\n",
    "\n",
    "customers_cols = ['customer_id', 'Active', 'club_member_status', 'fashion_news_frequency', 'age', 'postal_code']\n",
    "customers = customers.loc[:,customers_cols]\n",
    "\n",
    "print('Articles Dataframe shape:',articles.shape)\n",
    "print('Articles Columns:',list(articles.columns))\n",
    "\n",
    "print('\\nCustomers Dataframe shape:',customers.shape)\n",
    "print('Customers Columns:',list(customers.columns))\n",
    "\n",
    "print('\\nTransactions Dataframe shape:',transactions.shape)\n",
    "print('Transactions Columns:',list(transactions.columns))"
   ]
  },
  {
   "cell_type": "markdown",
   "metadata": {},
   "source": [
    "## 1.3 Combine tables by performing Join"
   ]
  },
  {
   "cell_type": "markdown",
   "metadata": {},
   "source": [
    "### 1.3.1 Join articles & transactions on article_id"
   ]
  },
  {
   "cell_type": "code",
   "execution_count": 4,
   "metadata": {},
   "outputs": [
    {
     "name": "stdout",
     "output_type": "stream",
     "text": [
      "Dataframe shape: (31788324, 18)\n",
      "Columns: ['t_dat', 'customer_id', 'article_id', 'price', 'sales_channel_id', 'prod_name', 'product_type_name', 'product_group_name', 'graphical_appearance_name', 'colour_group_name', 'perceived_colour_value_name', 'perceived_colour_master_name', 'department_name', 'index_name', 'index_group_name', 'section_name', 'garment_group_name', 'detail_desc']\n"
     ]
    },
    {
     "data": {
      "text/html": [
       "<div>\n",
       "<style scoped>\n",
       "    .dataframe tbody tr th:only-of-type {\n",
       "        vertical-align: middle;\n",
       "    }\n",
       "\n",
       "    .dataframe tbody tr th {\n",
       "        vertical-align: top;\n",
       "    }\n",
       "\n",
       "    .dataframe thead th {\n",
       "        text-align: right;\n",
       "    }\n",
       "</style>\n",
       "<table border=\"1\" class=\"dataframe\">\n",
       "  <thead>\n",
       "    <tr style=\"text-align: right;\">\n",
       "      <th></th>\n",
       "      <th>t_dat</th>\n",
       "      <th>customer_id</th>\n",
       "      <th>article_id</th>\n",
       "      <th>price</th>\n",
       "      <th>sales_channel_id</th>\n",
       "      <th>prod_name</th>\n",
       "      <th>product_type_name</th>\n",
       "      <th>product_group_name</th>\n",
       "      <th>graphical_appearance_name</th>\n",
       "      <th>colour_group_name</th>\n",
       "      <th>perceived_colour_value_name</th>\n",
       "      <th>perceived_colour_master_name</th>\n",
       "      <th>department_name</th>\n",
       "      <th>index_name</th>\n",
       "      <th>index_group_name</th>\n",
       "      <th>section_name</th>\n",
       "      <th>garment_group_name</th>\n",
       "      <th>detail_desc</th>\n",
       "    </tr>\n",
       "  </thead>\n",
       "  <tbody>\n",
       "    <tr>\n",
       "      <th>0</th>\n",
       "      <td>2018-09-20</td>\n",
       "      <td>000058a12d5b43e67d225668fa1f8d618c13dc232df0ca...</td>\n",
       "      <td>663713001</td>\n",
       "      <td>0.050831</td>\n",
       "      <td>2</td>\n",
       "      <td>Atlanta Push Body Harlow</td>\n",
       "      <td>Underwear body</td>\n",
       "      <td>Underwear</td>\n",
       "      <td>Solid</td>\n",
       "      <td>Black</td>\n",
       "      <td>Dark</td>\n",
       "      <td>Black</td>\n",
       "      <td>Expressive Lingerie</td>\n",
       "      <td>Lingeries/Tights</td>\n",
       "      <td>Ladieswear</td>\n",
       "      <td>Womens Lingerie</td>\n",
       "      <td>Under-, Nightwear</td>\n",
       "      <td>Lace push-up body with underwired, moulded, pa...</td>\n",
       "    </tr>\n",
       "    <tr>\n",
       "      <th>1</th>\n",
       "      <td>2018-09-20</td>\n",
       "      <td>3681748607f3287d2c3a65e00bb5fb153de30e9becf158...</td>\n",
       "      <td>663713001</td>\n",
       "      <td>0.049475</td>\n",
       "      <td>2</td>\n",
       "      <td>Atlanta Push Body Harlow</td>\n",
       "      <td>Underwear body</td>\n",
       "      <td>Underwear</td>\n",
       "      <td>Solid</td>\n",
       "      <td>Black</td>\n",
       "      <td>Dark</td>\n",
       "      <td>Black</td>\n",
       "      <td>Expressive Lingerie</td>\n",
       "      <td>Lingeries/Tights</td>\n",
       "      <td>Ladieswear</td>\n",
       "      <td>Womens Lingerie</td>\n",
       "      <td>Under-, Nightwear</td>\n",
       "      <td>Lace push-up body with underwired, moulded, pa...</td>\n",
       "    </tr>\n",
       "  </tbody>\n",
       "</table>\n",
       "</div>"
      ],
      "text/plain": [
       "        t_dat                                        customer_id  article_id  \\\n",
       "0  2018-09-20  000058a12d5b43e67d225668fa1f8d618c13dc232df0ca...   663713001   \n",
       "1  2018-09-20  3681748607f3287d2c3a65e00bb5fb153de30e9becf158...   663713001   \n",
       "\n",
       "      price  sales_channel_id                 prod_name product_type_name  \\\n",
       "0  0.050831                 2  Atlanta Push Body Harlow    Underwear body   \n",
       "1  0.049475                 2  Atlanta Push Body Harlow    Underwear body   \n",
       "\n",
       "  product_group_name graphical_appearance_name colour_group_name  \\\n",
       "0          Underwear                     Solid             Black   \n",
       "1          Underwear                     Solid             Black   \n",
       "\n",
       "  perceived_colour_value_name perceived_colour_master_name  \\\n",
       "0                        Dark                        Black   \n",
       "1                        Dark                        Black   \n",
       "\n",
       "       department_name        index_name index_group_name     section_name  \\\n",
       "0  Expressive Lingerie  Lingeries/Tights       Ladieswear  Womens Lingerie   \n",
       "1  Expressive Lingerie  Lingeries/Tights       Ladieswear  Womens Lingerie   \n",
       "\n",
       "  garment_group_name                                        detail_desc  \n",
       "0  Under-, Nightwear  Lace push-up body with underwired, moulded, pa...  \n",
       "1  Under-, Nightwear  Lace push-up body with underwired, moulded, pa...  "
      ]
     },
     "execution_count": 4,
     "metadata": {},
     "output_type": "execute_result"
    }
   ],
   "source": [
    "df = pd.merge(transactions, articles, on=['article_id'])\n",
    "print('Dataframe shape:',df.shape)\n",
    "print('Columns:',list(df.columns))\n",
    "df.head(2)"
   ]
  },
  {
   "cell_type": "code",
   "execution_count": 5,
   "metadata": {},
   "outputs": [
    {
     "data": {
      "text/html": [
       "<div>\n",
       "<style scoped>\n",
       "    .dataframe tbody tr th:only-of-type {\n",
       "        vertical-align: middle;\n",
       "    }\n",
       "\n",
       "    .dataframe tbody tr th {\n",
       "        vertical-align: top;\n",
       "    }\n",
       "\n",
       "    .dataframe thead th {\n",
       "        text-align: right;\n",
       "    }\n",
       "</style>\n",
       "<table border=\"1\" class=\"dataframe\">\n",
       "  <thead>\n",
       "    <tr style=\"text-align: right;\">\n",
       "      <th></th>\n",
       "      <th>article_id</th>\n",
       "      <th>prod_name</th>\n",
       "      <th>product_type_name</th>\n",
       "      <th>product_group_name</th>\n",
       "      <th>graphical_appearance_name</th>\n",
       "      <th>colour_group_name</th>\n",
       "      <th>perceived_colour_value_name</th>\n",
       "      <th>perceived_colour_master_name</th>\n",
       "      <th>department_name</th>\n",
       "      <th>index_name</th>\n",
       "      <th>index_group_name</th>\n",
       "      <th>section_name</th>\n",
       "      <th>garment_group_name</th>\n",
       "      <th>detail_desc</th>\n",
       "    </tr>\n",
       "  </thead>\n",
       "  <tbody>\n",
       "    <tr>\n",
       "      <th>40179</th>\n",
       "      <td>663713001</td>\n",
       "      <td>Atlanta Push Body Harlow</td>\n",
       "      <td>Underwear body</td>\n",
       "      <td>Underwear</td>\n",
       "      <td>Solid</td>\n",
       "      <td>Black</td>\n",
       "      <td>Dark</td>\n",
       "      <td>Black</td>\n",
       "      <td>Expressive Lingerie</td>\n",
       "      <td>Lingeries/Tights</td>\n",
       "      <td>Ladieswear</td>\n",
       "      <td>Womens Lingerie</td>\n",
       "      <td>Under-, Nightwear</td>\n",
       "      <td>Lace push-up body with underwired, moulded, pa...</td>\n",
       "    </tr>\n",
       "  </tbody>\n",
       "</table>\n",
       "</div>"
      ],
      "text/plain": [
       "       article_id                 prod_name product_type_name  \\\n",
       "40179   663713001  Atlanta Push Body Harlow    Underwear body   \n",
       "\n",
       "      product_group_name graphical_appearance_name colour_group_name  \\\n",
       "40179          Underwear                     Solid             Black   \n",
       "\n",
       "      perceived_colour_value_name perceived_colour_master_name  \\\n",
       "40179                        Dark                        Black   \n",
       "\n",
       "           department_name        index_name index_group_name  \\\n",
       "40179  Expressive Lingerie  Lingeries/Tights       Ladieswear   \n",
       "\n",
       "          section_name garment_group_name  \\\n",
       "40179  Womens Lingerie  Under-, Nightwear   \n",
       "\n",
       "                                             detail_desc  \n",
       "40179  Lace push-up body with underwired, moulded, pa...  "
      ]
     },
     "execution_count": 5,
     "metadata": {},
     "output_type": "execute_result"
    }
   ],
   "source": [
    "# Check articles\n",
    "articles[articles['article_id']==663713001]"
   ]
  },
  {
   "cell_type": "code",
   "execution_count": 6,
   "metadata": {},
   "outputs": [
    {
     "data": {
      "text/html": [
       "<div>\n",
       "<style scoped>\n",
       "    .dataframe tbody tr th:only-of-type {\n",
       "        vertical-align: middle;\n",
       "    }\n",
       "\n",
       "    .dataframe tbody tr th {\n",
       "        vertical-align: top;\n",
       "    }\n",
       "\n",
       "    .dataframe thead th {\n",
       "        text-align: right;\n",
       "    }\n",
       "</style>\n",
       "<table border=\"1\" class=\"dataframe\">\n",
       "  <thead>\n",
       "    <tr style=\"text-align: right;\">\n",
       "      <th></th>\n",
       "      <th>t_dat</th>\n",
       "      <th>customer_id</th>\n",
       "      <th>article_id</th>\n",
       "      <th>price</th>\n",
       "      <th>sales_channel_id</th>\n",
       "    </tr>\n",
       "  </thead>\n",
       "  <tbody>\n",
       "    <tr>\n",
       "      <th>0</th>\n",
       "      <td>2018-09-20</td>\n",
       "      <td>000058a12d5b43e67d225668fa1f8d618c13dc232df0ca...</td>\n",
       "      <td>663713001</td>\n",
       "      <td>0.050831</td>\n",
       "      <td>2</td>\n",
       "    </tr>\n",
       "    <tr>\n",
       "      <th>10026</th>\n",
       "      <td>2018-09-20</td>\n",
       "      <td>3681748607f3287d2c3a65e00bb5fb153de30e9becf158...</td>\n",
       "      <td>663713001</td>\n",
       "      <td>0.049475</td>\n",
       "      <td>2</td>\n",
       "    </tr>\n",
       "    <tr>\n",
       "      <th>14906</th>\n",
       "      <td>2018-09-20</td>\n",
       "      <td>4ef5967ff17bf474bffebe5b16bd54878e1d4105f7b4ed...</td>\n",
       "      <td>663713001</td>\n",
       "      <td>0.050831</td>\n",
       "      <td>2</td>\n",
       "    </tr>\n",
       "    <tr>\n",
       "      <th>20662</th>\n",
       "      <td>2018-09-20</td>\n",
       "      <td>6b7b10d2d47516c82a6f97332478dab748070f09693f09...</td>\n",
       "      <td>663713001</td>\n",
       "      <td>0.050831</td>\n",
       "      <td>1</td>\n",
       "    </tr>\n",
       "    <tr>\n",
       "      <th>26426</th>\n",
       "      <td>2018-09-20</td>\n",
       "      <td>8ac137752bbe914aa4ae6ad007a9a0c5b67a1ab2b2d474...</td>\n",
       "      <td>663713001</td>\n",
       "      <td>0.050831</td>\n",
       "      <td>2</td>\n",
       "    </tr>\n",
       "  </tbody>\n",
       "</table>\n",
       "</div>"
      ],
      "text/plain": [
       "            t_dat                                        customer_id  \\\n",
       "0      2018-09-20  000058a12d5b43e67d225668fa1f8d618c13dc232df0ca...   \n",
       "10026  2018-09-20  3681748607f3287d2c3a65e00bb5fb153de30e9becf158...   \n",
       "14906  2018-09-20  4ef5967ff17bf474bffebe5b16bd54878e1d4105f7b4ed...   \n",
       "20662  2018-09-20  6b7b10d2d47516c82a6f97332478dab748070f09693f09...   \n",
       "26426  2018-09-20  8ac137752bbe914aa4ae6ad007a9a0c5b67a1ab2b2d474...   \n",
       "\n",
       "       article_id     price  sales_channel_id  \n",
       "0       663713001  0.050831                 2  \n",
       "10026   663713001  0.049475                 2  \n",
       "14906   663713001  0.050831                 2  \n",
       "20662   663713001  0.050831                 1  \n",
       "26426   663713001  0.050831                 2  "
      ]
     },
     "execution_count": 6,
     "metadata": {},
     "output_type": "execute_result"
    }
   ],
   "source": [
    "# Check transactions\n",
    "transactions[transactions['article_id']==663713001].head()"
   ]
  },
  {
   "cell_type": "code",
   "execution_count": 7,
   "metadata": {},
   "outputs": [
    {
     "data": {
      "text/html": [
       "<div>\n",
       "<style scoped>\n",
       "    .dataframe tbody tr th:only-of-type {\n",
       "        vertical-align: middle;\n",
       "    }\n",
       "\n",
       "    .dataframe tbody tr th {\n",
       "        vertical-align: top;\n",
       "    }\n",
       "\n",
       "    .dataframe thead th {\n",
       "        text-align: right;\n",
       "    }\n",
       "</style>\n",
       "<table border=\"1\" class=\"dataframe\">\n",
       "  <thead>\n",
       "    <tr style=\"text-align: right;\">\n",
       "      <th></th>\n",
       "      <th>t_dat</th>\n",
       "      <th>customer_id</th>\n",
       "      <th>article_id</th>\n",
       "      <th>price</th>\n",
       "      <th>sales_channel_id</th>\n",
       "      <th>prod_name</th>\n",
       "      <th>product_type_name</th>\n",
       "      <th>product_group_name</th>\n",
       "      <th>graphical_appearance_name</th>\n",
       "      <th>colour_group_name</th>\n",
       "      <th>perceived_colour_value_name</th>\n",
       "      <th>perceived_colour_master_name</th>\n",
       "      <th>department_name</th>\n",
       "      <th>index_name</th>\n",
       "      <th>index_group_name</th>\n",
       "      <th>section_name</th>\n",
       "      <th>garment_group_name</th>\n",
       "      <th>detail_desc</th>\n",
       "    </tr>\n",
       "  </thead>\n",
       "  <tbody>\n",
       "    <tr>\n",
       "      <th>0</th>\n",
       "      <td>2018-09-20</td>\n",
       "      <td>000058a12d5b43e67d225668fa1f8d618c13dc232df0ca...</td>\n",
       "      <td>663713001</td>\n",
       "      <td>0.050831</td>\n",
       "      <td>2</td>\n",
       "      <td>Atlanta Push Body Harlow</td>\n",
       "      <td>Underwear body</td>\n",
       "      <td>Underwear</td>\n",
       "      <td>Solid</td>\n",
       "      <td>Black</td>\n",
       "      <td>Dark</td>\n",
       "      <td>Black</td>\n",
       "      <td>Expressive Lingerie</td>\n",
       "      <td>Lingeries/Tights</td>\n",
       "      <td>Ladieswear</td>\n",
       "      <td>Womens Lingerie</td>\n",
       "      <td>Under-, Nightwear</td>\n",
       "      <td>Lace push-up body with underwired, moulded, pa...</td>\n",
       "    </tr>\n",
       "    <tr>\n",
       "      <th>1</th>\n",
       "      <td>2018-09-20</td>\n",
       "      <td>3681748607f3287d2c3a65e00bb5fb153de30e9becf158...</td>\n",
       "      <td>663713001</td>\n",
       "      <td>0.049475</td>\n",
       "      <td>2</td>\n",
       "      <td>Atlanta Push Body Harlow</td>\n",
       "      <td>Underwear body</td>\n",
       "      <td>Underwear</td>\n",
       "      <td>Solid</td>\n",
       "      <td>Black</td>\n",
       "      <td>Dark</td>\n",
       "      <td>Black</td>\n",
       "      <td>Expressive Lingerie</td>\n",
       "      <td>Lingeries/Tights</td>\n",
       "      <td>Ladieswear</td>\n",
       "      <td>Womens Lingerie</td>\n",
       "      <td>Under-, Nightwear</td>\n",
       "      <td>Lace push-up body with underwired, moulded, pa...</td>\n",
       "    </tr>\n",
       "    <tr>\n",
       "      <th>2</th>\n",
       "      <td>2018-09-20</td>\n",
       "      <td>4ef5967ff17bf474bffebe5b16bd54878e1d4105f7b4ed...</td>\n",
       "      <td>663713001</td>\n",
       "      <td>0.050831</td>\n",
       "      <td>2</td>\n",
       "      <td>Atlanta Push Body Harlow</td>\n",
       "      <td>Underwear body</td>\n",
       "      <td>Underwear</td>\n",
       "      <td>Solid</td>\n",
       "      <td>Black</td>\n",
       "      <td>Dark</td>\n",
       "      <td>Black</td>\n",
       "      <td>Expressive Lingerie</td>\n",
       "      <td>Lingeries/Tights</td>\n",
       "      <td>Ladieswear</td>\n",
       "      <td>Womens Lingerie</td>\n",
       "      <td>Under-, Nightwear</td>\n",
       "      <td>Lace push-up body with underwired, moulded, pa...</td>\n",
       "    </tr>\n",
       "    <tr>\n",
       "      <th>3</th>\n",
       "      <td>2018-09-20</td>\n",
       "      <td>6b7b10d2d47516c82a6f97332478dab748070f09693f09...</td>\n",
       "      <td>663713001</td>\n",
       "      <td>0.050831</td>\n",
       "      <td>1</td>\n",
       "      <td>Atlanta Push Body Harlow</td>\n",
       "      <td>Underwear body</td>\n",
       "      <td>Underwear</td>\n",
       "      <td>Solid</td>\n",
       "      <td>Black</td>\n",
       "      <td>Dark</td>\n",
       "      <td>Black</td>\n",
       "      <td>Expressive Lingerie</td>\n",
       "      <td>Lingeries/Tights</td>\n",
       "      <td>Ladieswear</td>\n",
       "      <td>Womens Lingerie</td>\n",
       "      <td>Under-, Nightwear</td>\n",
       "      <td>Lace push-up body with underwired, moulded, pa...</td>\n",
       "    </tr>\n",
       "    <tr>\n",
       "      <th>4</th>\n",
       "      <td>2018-09-20</td>\n",
       "      <td>8ac137752bbe914aa4ae6ad007a9a0c5b67a1ab2b2d474...</td>\n",
       "      <td>663713001</td>\n",
       "      <td>0.050831</td>\n",
       "      <td>2</td>\n",
       "      <td>Atlanta Push Body Harlow</td>\n",
       "      <td>Underwear body</td>\n",
       "      <td>Underwear</td>\n",
       "      <td>Solid</td>\n",
       "      <td>Black</td>\n",
       "      <td>Dark</td>\n",
       "      <td>Black</td>\n",
       "      <td>Expressive Lingerie</td>\n",
       "      <td>Lingeries/Tights</td>\n",
       "      <td>Ladieswear</td>\n",
       "      <td>Womens Lingerie</td>\n",
       "      <td>Under-, Nightwear</td>\n",
       "      <td>Lace push-up body with underwired, moulded, pa...</td>\n",
       "    </tr>\n",
       "  </tbody>\n",
       "</table>\n",
       "</div>"
      ],
      "text/plain": [
       "        t_dat                                        customer_id  article_id  \\\n",
       "0  2018-09-20  000058a12d5b43e67d225668fa1f8d618c13dc232df0ca...   663713001   \n",
       "1  2018-09-20  3681748607f3287d2c3a65e00bb5fb153de30e9becf158...   663713001   \n",
       "2  2018-09-20  4ef5967ff17bf474bffebe5b16bd54878e1d4105f7b4ed...   663713001   \n",
       "3  2018-09-20  6b7b10d2d47516c82a6f97332478dab748070f09693f09...   663713001   \n",
       "4  2018-09-20  8ac137752bbe914aa4ae6ad007a9a0c5b67a1ab2b2d474...   663713001   \n",
       "\n",
       "      price  sales_channel_id                 prod_name product_type_name  \\\n",
       "0  0.050831                 2  Atlanta Push Body Harlow    Underwear body   \n",
       "1  0.049475                 2  Atlanta Push Body Harlow    Underwear body   \n",
       "2  0.050831                 2  Atlanta Push Body Harlow    Underwear body   \n",
       "3  0.050831                 1  Atlanta Push Body Harlow    Underwear body   \n",
       "4  0.050831                 2  Atlanta Push Body Harlow    Underwear body   \n",
       "\n",
       "  product_group_name graphical_appearance_name colour_group_name  \\\n",
       "0          Underwear                     Solid             Black   \n",
       "1          Underwear                     Solid             Black   \n",
       "2          Underwear                     Solid             Black   \n",
       "3          Underwear                     Solid             Black   \n",
       "4          Underwear                     Solid             Black   \n",
       "\n",
       "  perceived_colour_value_name perceived_colour_master_name  \\\n",
       "0                        Dark                        Black   \n",
       "1                        Dark                        Black   \n",
       "2                        Dark                        Black   \n",
       "3                        Dark                        Black   \n",
       "4                        Dark                        Black   \n",
       "\n",
       "       department_name        index_name index_group_name     section_name  \\\n",
       "0  Expressive Lingerie  Lingeries/Tights       Ladieswear  Womens Lingerie   \n",
       "1  Expressive Lingerie  Lingeries/Tights       Ladieswear  Womens Lingerie   \n",
       "2  Expressive Lingerie  Lingeries/Tights       Ladieswear  Womens Lingerie   \n",
       "3  Expressive Lingerie  Lingeries/Tights       Ladieswear  Womens Lingerie   \n",
       "4  Expressive Lingerie  Lingeries/Tights       Ladieswear  Womens Lingerie   \n",
       "\n",
       "  garment_group_name                                        detail_desc  \n",
       "0  Under-, Nightwear  Lace push-up body with underwired, moulded, pa...  \n",
       "1  Under-, Nightwear  Lace push-up body with underwired, moulded, pa...  \n",
       "2  Under-, Nightwear  Lace push-up body with underwired, moulded, pa...  \n",
       "3  Under-, Nightwear  Lace push-up body with underwired, moulded, pa...  \n",
       "4  Under-, Nightwear  Lace push-up body with underwired, moulded, pa...  "
      ]
     },
     "execution_count": 7,
     "metadata": {},
     "output_type": "execute_result"
    }
   ],
   "source": [
    "# Check combined_df of articles & transformations\n",
    "df[df['article_id']==663713001].head()"
   ]
  },
  {
   "cell_type": "markdown",
   "metadata": {},
   "source": [
    "### 1.3.2 Join customers & edited transactions on customer_id"
   ]
  },
  {
   "cell_type": "code",
   "execution_count": 8,
   "metadata": {},
   "outputs": [
    {
     "name": "stdout",
     "output_type": "stream",
     "text": [
      "Dataframe shape: (31788324, 23)\n",
      "Columns: ['t_dat', 'customer_id', 'article_id', 'price', 'sales_channel_id', 'prod_name', 'product_type_name', 'product_group_name', 'graphical_appearance_name', 'colour_group_name', 'perceived_colour_value_name', 'perceived_colour_master_name', 'department_name', 'index_name', 'index_group_name', 'section_name', 'garment_group_name', 'detail_desc', 'Active', 'club_member_status', 'fashion_news_frequency', 'age', 'postal_code']\n"
     ]
    },
    {
     "data": {
      "text/html": [
       "<div>\n",
       "<style scoped>\n",
       "    .dataframe tbody tr th:only-of-type {\n",
       "        vertical-align: middle;\n",
       "    }\n",
       "\n",
       "    .dataframe tbody tr th {\n",
       "        vertical-align: top;\n",
       "    }\n",
       "\n",
       "    .dataframe thead th {\n",
       "        text-align: right;\n",
       "    }\n",
       "</style>\n",
       "<table border=\"1\" class=\"dataframe\">\n",
       "  <thead>\n",
       "    <tr style=\"text-align: right;\">\n",
       "      <th></th>\n",
       "      <th>t_dat</th>\n",
       "      <th>customer_id</th>\n",
       "      <th>article_id</th>\n",
       "      <th>price</th>\n",
       "      <th>sales_channel_id</th>\n",
       "      <th>prod_name</th>\n",
       "      <th>product_type_name</th>\n",
       "      <th>product_group_name</th>\n",
       "      <th>graphical_appearance_name</th>\n",
       "      <th>colour_group_name</th>\n",
       "      <th>...</th>\n",
       "      <th>index_name</th>\n",
       "      <th>index_group_name</th>\n",
       "      <th>section_name</th>\n",
       "      <th>garment_group_name</th>\n",
       "      <th>detail_desc</th>\n",
       "      <th>Active</th>\n",
       "      <th>club_member_status</th>\n",
       "      <th>fashion_news_frequency</th>\n",
       "      <th>age</th>\n",
       "      <th>postal_code</th>\n",
       "    </tr>\n",
       "  </thead>\n",
       "  <tbody>\n",
       "    <tr>\n",
       "      <th>0</th>\n",
       "      <td>2018-09-20</td>\n",
       "      <td>000058a12d5b43e67d225668fa1f8d618c13dc232df0ca...</td>\n",
       "      <td>663713001</td>\n",
       "      <td>0.050831</td>\n",
       "      <td>2</td>\n",
       "      <td>Atlanta Push Body Harlow</td>\n",
       "      <td>Underwear body</td>\n",
       "      <td>Underwear</td>\n",
       "      <td>Solid</td>\n",
       "      <td>Black</td>\n",
       "      <td>...</td>\n",
       "      <td>Lingeries/Tights</td>\n",
       "      <td>Ladieswear</td>\n",
       "      <td>Womens Lingerie</td>\n",
       "      <td>Under-, Nightwear</td>\n",
       "      <td>Lace push-up body with underwired, moulded, pa...</td>\n",
       "      <td>NaN</td>\n",
       "      <td>ACTIVE</td>\n",
       "      <td>NONE</td>\n",
       "      <td>24.0</td>\n",
       "      <td>64f17e6a330a85798e4998f62d0930d14db8db1c054af6...</td>\n",
       "    </tr>\n",
       "    <tr>\n",
       "      <th>1</th>\n",
       "      <td>2018-09-24</td>\n",
       "      <td>000058a12d5b43e67d225668fa1f8d618c13dc232df0ca...</td>\n",
       "      <td>663713001</td>\n",
       "      <td>0.050831</td>\n",
       "      <td>2</td>\n",
       "      <td>Atlanta Push Body Harlow</td>\n",
       "      <td>Underwear body</td>\n",
       "      <td>Underwear</td>\n",
       "      <td>Solid</td>\n",
       "      <td>Black</td>\n",
       "      <td>...</td>\n",
       "      <td>Lingeries/Tights</td>\n",
       "      <td>Ladieswear</td>\n",
       "      <td>Womens Lingerie</td>\n",
       "      <td>Under-, Nightwear</td>\n",
       "      <td>Lace push-up body with underwired, moulded, pa...</td>\n",
       "      <td>NaN</td>\n",
       "      <td>ACTIVE</td>\n",
       "      <td>NONE</td>\n",
       "      <td>24.0</td>\n",
       "      <td>64f17e6a330a85798e4998f62d0930d14db8db1c054af6...</td>\n",
       "    </tr>\n",
       "  </tbody>\n",
       "</table>\n",
       "<p>2 rows × 23 columns</p>\n",
       "</div>"
      ],
      "text/plain": [
       "        t_dat                                        customer_id  article_id  \\\n",
       "0  2018-09-20  000058a12d5b43e67d225668fa1f8d618c13dc232df0ca...   663713001   \n",
       "1  2018-09-24  000058a12d5b43e67d225668fa1f8d618c13dc232df0ca...   663713001   \n",
       "\n",
       "      price  sales_channel_id                 prod_name product_type_name  \\\n",
       "0  0.050831                 2  Atlanta Push Body Harlow    Underwear body   \n",
       "1  0.050831                 2  Atlanta Push Body Harlow    Underwear body   \n",
       "\n",
       "  product_group_name graphical_appearance_name colour_group_name  ...  \\\n",
       "0          Underwear                     Solid             Black  ...   \n",
       "1          Underwear                     Solid             Black  ...   \n",
       "\n",
       "         index_name index_group_name     section_name garment_group_name  \\\n",
       "0  Lingeries/Tights       Ladieswear  Womens Lingerie  Under-, Nightwear   \n",
       "1  Lingeries/Tights       Ladieswear  Womens Lingerie  Under-, Nightwear   \n",
       "\n",
       "                                         detail_desc Active  \\\n",
       "0  Lace push-up body with underwired, moulded, pa...    NaN   \n",
       "1  Lace push-up body with underwired, moulded, pa...    NaN   \n",
       "\n",
       "  club_member_status fashion_news_frequency   age  \\\n",
       "0             ACTIVE                   NONE  24.0   \n",
       "1             ACTIVE                   NONE  24.0   \n",
       "\n",
       "                                         postal_code  \n",
       "0  64f17e6a330a85798e4998f62d0930d14db8db1c054af6...  \n",
       "1  64f17e6a330a85798e4998f62d0930d14db8db1c054af6...  \n",
       "\n",
       "[2 rows x 23 columns]"
      ]
     },
     "execution_count": 8,
     "metadata": {},
     "output_type": "execute_result"
    }
   ],
   "source": [
    "df_final = pd.merge(df, customers, on=['customer_id'])\n",
    "print('Dataframe shape:',df_final.shape)\n",
    "print('Columns:',list(df_final.columns))\n",
    "df_final.head(2)"
   ]
  },
  {
   "cell_type": "code",
   "execution_count": 9,
   "metadata": {},
   "outputs": [
    {
     "data": {
      "text/plain": [
       "'000058a12d5b43e67d225668fa1f8d618c13dc232df0cad8ffe7ad4a1091e318'"
      ]
     },
     "execution_count": 9,
     "metadata": {},
     "output_type": "execute_result"
    }
   ],
   "source": [
    "df_final.loc[0,'customer_id']"
   ]
  },
  {
   "cell_type": "code",
   "execution_count": 10,
   "metadata": {},
   "outputs": [
    {
     "data": {
      "text/html": [
       "<div>\n",
       "<style scoped>\n",
       "    .dataframe tbody tr th:only-of-type {\n",
       "        vertical-align: middle;\n",
       "    }\n",
       "\n",
       "    .dataframe tbody tr th {\n",
       "        vertical-align: top;\n",
       "    }\n",
       "\n",
       "    .dataframe thead th {\n",
       "        text-align: right;\n",
       "    }\n",
       "</style>\n",
       "<table border=\"1\" class=\"dataframe\">\n",
       "  <thead>\n",
       "    <tr style=\"text-align: right;\">\n",
       "      <th></th>\n",
       "      <th>customer_id</th>\n",
       "      <th>Active</th>\n",
       "      <th>club_member_status</th>\n",
       "      <th>fashion_news_frequency</th>\n",
       "      <th>age</th>\n",
       "      <th>postal_code</th>\n",
       "    </tr>\n",
       "  </thead>\n",
       "  <tbody>\n",
       "    <tr>\n",
       "      <th>2</th>\n",
       "      <td>000058a12d5b43e67d225668fa1f8d618c13dc232df0ca...</td>\n",
       "      <td>NaN</td>\n",
       "      <td>ACTIVE</td>\n",
       "      <td>NONE</td>\n",
       "      <td>24.0</td>\n",
       "      <td>64f17e6a330a85798e4998f62d0930d14db8db1c054af6...</td>\n",
       "    </tr>\n",
       "  </tbody>\n",
       "</table>\n",
       "</div>"
      ],
      "text/plain": [
       "                                         customer_id  Active  \\\n",
       "2  000058a12d5b43e67d225668fa1f8d618c13dc232df0ca...     NaN   \n",
       "\n",
       "  club_member_status fashion_news_frequency   age  \\\n",
       "2             ACTIVE                   NONE  24.0   \n",
       "\n",
       "                                         postal_code  \n",
       "2  64f17e6a330a85798e4998f62d0930d14db8db1c054af6...  "
      ]
     },
     "execution_count": 10,
     "metadata": {},
     "output_type": "execute_result"
    }
   ],
   "source": [
    "# Check customers\n",
    "customers[customers['customer_id']=='000058a12d5b43e67d225668fa1f8d618c13dc232df0cad8ffe7ad4a1091e318'].head()"
   ]
  },
  {
   "cell_type": "code",
   "execution_count": 11,
   "metadata": {},
   "outputs": [
    {
     "data": {
      "text/html": [
       "<div>\n",
       "<style scoped>\n",
       "    .dataframe tbody tr th:only-of-type {\n",
       "        vertical-align: middle;\n",
       "    }\n",
       "\n",
       "    .dataframe tbody tr th {\n",
       "        vertical-align: top;\n",
       "    }\n",
       "\n",
       "    .dataframe thead th {\n",
       "        text-align: right;\n",
       "    }\n",
       "</style>\n",
       "<table border=\"1\" class=\"dataframe\">\n",
       "  <thead>\n",
       "    <tr style=\"text-align: right;\">\n",
       "      <th></th>\n",
       "      <th>t_dat</th>\n",
       "      <th>customer_id</th>\n",
       "      <th>article_id</th>\n",
       "      <th>price</th>\n",
       "      <th>sales_channel_id</th>\n",
       "      <th>prod_name</th>\n",
       "      <th>product_type_name</th>\n",
       "      <th>product_group_name</th>\n",
       "      <th>graphical_appearance_name</th>\n",
       "      <th>colour_group_name</th>\n",
       "      <th>perceived_colour_value_name</th>\n",
       "      <th>perceived_colour_master_name</th>\n",
       "      <th>department_name</th>\n",
       "      <th>index_name</th>\n",
       "      <th>index_group_name</th>\n",
       "      <th>section_name</th>\n",
       "      <th>garment_group_name</th>\n",
       "      <th>detail_desc</th>\n",
       "    </tr>\n",
       "  </thead>\n",
       "  <tbody>\n",
       "    <tr>\n",
       "      <th>0</th>\n",
       "      <td>2018-09-20</td>\n",
       "      <td>000058a12d5b43e67d225668fa1f8d618c13dc232df0ca...</td>\n",
       "      <td>663713001</td>\n",
       "      <td>0.050831</td>\n",
       "      <td>2</td>\n",
       "      <td>Atlanta Push Body Harlow</td>\n",
       "      <td>Underwear body</td>\n",
       "      <td>Underwear</td>\n",
       "      <td>Solid</td>\n",
       "      <td>Black</td>\n",
       "      <td>Dark</td>\n",
       "      <td>Black</td>\n",
       "      <td>Expressive Lingerie</td>\n",
       "      <td>Lingeries/Tights</td>\n",
       "      <td>Ladieswear</td>\n",
       "      <td>Womens Lingerie</td>\n",
       "      <td>Under-, Nightwear</td>\n",
       "      <td>Lace push-up body with underwired, moulded, pa...</td>\n",
       "    </tr>\n",
       "    <tr>\n",
       "      <th>26</th>\n",
       "      <td>2018-09-24</td>\n",
       "      <td>000058a12d5b43e67d225668fa1f8d618c13dc232df0ca...</td>\n",
       "      <td>663713001</td>\n",
       "      <td>0.050831</td>\n",
       "      <td>2</td>\n",
       "      <td>Atlanta Push Body Harlow</td>\n",
       "      <td>Underwear body</td>\n",
       "      <td>Underwear</td>\n",
       "      <td>Solid</td>\n",
       "      <td>Black</td>\n",
       "      <td>Dark</td>\n",
       "      <td>Black</td>\n",
       "      <td>Expressive Lingerie</td>\n",
       "      <td>Lingeries/Tights</td>\n",
       "      <td>Ladieswear</td>\n",
       "      <td>Womens Lingerie</td>\n",
       "      <td>Under-, Nightwear</td>\n",
       "      <td>Lace push-up body with underwired, moulded, pa...</td>\n",
       "    </tr>\n",
       "    <tr>\n",
       "      <th>633</th>\n",
       "      <td>2018-09-20</td>\n",
       "      <td>000058a12d5b43e67d225668fa1f8d618c13dc232df0ca...</td>\n",
       "      <td>541518023</td>\n",
       "      <td>0.030492</td>\n",
       "      <td>2</td>\n",
       "      <td>Rae Push (Melbourne) 2p</td>\n",
       "      <td>Bra</td>\n",
       "      <td>Underwear</td>\n",
       "      <td>Solid</td>\n",
       "      <td>Light Pink</td>\n",
       "      <td>Dusty Light</td>\n",
       "      <td>Pink</td>\n",
       "      <td>Casual Lingerie</td>\n",
       "      <td>Lingeries/Tights</td>\n",
       "      <td>Ladieswear</td>\n",
       "      <td>Womens Lingerie</td>\n",
       "      <td>Under-, Nightwear</td>\n",
       "      <td>Lace push-up bras with underwired, moulded, pa...</td>\n",
       "    </tr>\n",
       "    <tr>\n",
       "      <th>1963854</th>\n",
       "      <td>2019-03-01</td>\n",
       "      <td>000058a12d5b43e67d225668fa1f8d618c13dc232df0ca...</td>\n",
       "      <td>578020002</td>\n",
       "      <td>0.013542</td>\n",
       "      <td>2</td>\n",
       "      <td>Pluto OTS</td>\n",
       "      <td>Blouse</td>\n",
       "      <td>Garment Upper body</td>\n",
       "      <td>Stripe</td>\n",
       "      <td>Light Blue</td>\n",
       "      <td>Light</td>\n",
       "      <td>Blue</td>\n",
       "      <td>Blouse</td>\n",
       "      <td>Ladieswear</td>\n",
       "      <td>Ladieswear</td>\n",
       "      <td>Womens Casual</td>\n",
       "      <td>Blouses</td>\n",
       "      <td>Off-the-shoulder top in a cotton weave with el...</td>\n",
       "    </tr>\n",
       "    <tr>\n",
       "      <th>2939706</th>\n",
       "      <td>2020-02-03</td>\n",
       "      <td>000058a12d5b43e67d225668fa1f8d618c13dc232df0ca...</td>\n",
       "      <td>351484002</td>\n",
       "      <td>0.022017</td>\n",
       "      <td>2</td>\n",
       "      <td>Lazer Razer Brief</td>\n",
       "      <td>Swimwear bottom</td>\n",
       "      <td>Swimwear</td>\n",
       "      <td>Solid</td>\n",
       "      <td>Black</td>\n",
       "      <td>Dark</td>\n",
       "      <td>Black</td>\n",
       "      <td>Swimwear</td>\n",
       "      <td>Lingeries/Tights</td>\n",
       "      <td>Ladieswear</td>\n",
       "      <td>Womens Swimwear, beachwear</td>\n",
       "      <td>Swimwear</td>\n",
       "      <td>Fully lined bikini bottoms with a mid waist, m...</td>\n",
       "    </tr>\n",
       "  </tbody>\n",
       "</table>\n",
       "</div>"
      ],
      "text/plain": [
       "              t_dat                                        customer_id  \\\n",
       "0        2018-09-20  000058a12d5b43e67d225668fa1f8d618c13dc232df0ca...   \n",
       "26       2018-09-24  000058a12d5b43e67d225668fa1f8d618c13dc232df0ca...   \n",
       "633      2018-09-20  000058a12d5b43e67d225668fa1f8d618c13dc232df0ca...   \n",
       "1963854  2019-03-01  000058a12d5b43e67d225668fa1f8d618c13dc232df0ca...   \n",
       "2939706  2020-02-03  000058a12d5b43e67d225668fa1f8d618c13dc232df0ca...   \n",
       "\n",
       "         article_id     price  sales_channel_id                 prod_name  \\\n",
       "0         663713001  0.050831                 2  Atlanta Push Body Harlow   \n",
       "26        663713001  0.050831                 2  Atlanta Push Body Harlow   \n",
       "633       541518023  0.030492                 2   Rae Push (Melbourne) 2p   \n",
       "1963854   578020002  0.013542                 2                 Pluto OTS   \n",
       "2939706   351484002  0.022017                 2         Lazer Razer Brief   \n",
       "\n",
       "        product_type_name  product_group_name graphical_appearance_name  \\\n",
       "0          Underwear body           Underwear                     Solid   \n",
       "26         Underwear body           Underwear                     Solid   \n",
       "633                   Bra           Underwear                     Solid   \n",
       "1963854            Blouse  Garment Upper body                    Stripe   \n",
       "2939706   Swimwear bottom            Swimwear                     Solid   \n",
       "\n",
       "        colour_group_name perceived_colour_value_name  \\\n",
       "0                   Black                        Dark   \n",
       "26                  Black                        Dark   \n",
       "633            Light Pink                 Dusty Light   \n",
       "1963854        Light Blue                       Light   \n",
       "2939706             Black                        Dark   \n",
       "\n",
       "        perceived_colour_master_name      department_name        index_name  \\\n",
       "0                              Black  Expressive Lingerie  Lingeries/Tights   \n",
       "26                             Black  Expressive Lingerie  Lingeries/Tights   \n",
       "633                             Pink      Casual Lingerie  Lingeries/Tights   \n",
       "1963854                         Blue               Blouse        Ladieswear   \n",
       "2939706                        Black             Swimwear  Lingeries/Tights   \n",
       "\n",
       "        index_group_name                section_name garment_group_name  \\\n",
       "0             Ladieswear             Womens Lingerie  Under-, Nightwear   \n",
       "26            Ladieswear             Womens Lingerie  Under-, Nightwear   \n",
       "633           Ladieswear             Womens Lingerie  Under-, Nightwear   \n",
       "1963854       Ladieswear               Womens Casual            Blouses   \n",
       "2939706       Ladieswear  Womens Swimwear, beachwear           Swimwear   \n",
       "\n",
       "                                               detail_desc  \n",
       "0        Lace push-up body with underwired, moulded, pa...  \n",
       "26       Lace push-up body with underwired, moulded, pa...  \n",
       "633      Lace push-up bras with underwired, moulded, pa...  \n",
       "1963854  Off-the-shoulder top in a cotton weave with el...  \n",
       "2939706  Fully lined bikini bottoms with a mid waist, m...  "
      ]
     },
     "execution_count": 11,
     "metadata": {},
     "output_type": "execute_result"
    }
   ],
   "source": [
    "# Check combined df of articles and transformations\n",
    "df[df['customer_id']=='000058a12d5b43e67d225668fa1f8d618c13dc232df0cad8ffe7ad4a1091e318'].head()"
   ]
  },
  {
   "cell_type": "code",
   "execution_count": 12,
   "metadata": {},
   "outputs": [
    {
     "data": {
      "text/html": [
       "<div>\n",
       "<style scoped>\n",
       "    .dataframe tbody tr th:only-of-type {\n",
       "        vertical-align: middle;\n",
       "    }\n",
       "\n",
       "    .dataframe tbody tr th {\n",
       "        vertical-align: top;\n",
       "    }\n",
       "\n",
       "    .dataframe thead th {\n",
       "        text-align: right;\n",
       "    }\n",
       "</style>\n",
       "<table border=\"1\" class=\"dataframe\">\n",
       "  <thead>\n",
       "    <tr style=\"text-align: right;\">\n",
       "      <th></th>\n",
       "      <th>t_dat</th>\n",
       "      <th>customer_id</th>\n",
       "      <th>article_id</th>\n",
       "      <th>price</th>\n",
       "      <th>sales_channel_id</th>\n",
       "      <th>prod_name</th>\n",
       "      <th>product_type_name</th>\n",
       "      <th>product_group_name</th>\n",
       "      <th>graphical_appearance_name</th>\n",
       "      <th>colour_group_name</th>\n",
       "      <th>...</th>\n",
       "      <th>index_name</th>\n",
       "      <th>index_group_name</th>\n",
       "      <th>section_name</th>\n",
       "      <th>garment_group_name</th>\n",
       "      <th>detail_desc</th>\n",
       "      <th>Active</th>\n",
       "      <th>club_member_status</th>\n",
       "      <th>fashion_news_frequency</th>\n",
       "      <th>age</th>\n",
       "      <th>postal_code</th>\n",
       "    </tr>\n",
       "  </thead>\n",
       "  <tbody>\n",
       "    <tr>\n",
       "      <th>0</th>\n",
       "      <td>2018-09-20</td>\n",
       "      <td>000058a12d5b43e67d225668fa1f8d618c13dc232df0ca...</td>\n",
       "      <td>663713001</td>\n",
       "      <td>0.050831</td>\n",
       "      <td>2</td>\n",
       "      <td>Atlanta Push Body Harlow</td>\n",
       "      <td>Underwear body</td>\n",
       "      <td>Underwear</td>\n",
       "      <td>Solid</td>\n",
       "      <td>Black</td>\n",
       "      <td>...</td>\n",
       "      <td>Lingeries/Tights</td>\n",
       "      <td>Ladieswear</td>\n",
       "      <td>Womens Lingerie</td>\n",
       "      <td>Under-, Nightwear</td>\n",
       "      <td>Lace push-up body with underwired, moulded, pa...</td>\n",
       "      <td>NaN</td>\n",
       "      <td>ACTIVE</td>\n",
       "      <td>NONE</td>\n",
       "      <td>24.0</td>\n",
       "      <td>64f17e6a330a85798e4998f62d0930d14db8db1c054af6...</td>\n",
       "    </tr>\n",
       "    <tr>\n",
       "      <th>1</th>\n",
       "      <td>2018-09-24</td>\n",
       "      <td>000058a12d5b43e67d225668fa1f8d618c13dc232df0ca...</td>\n",
       "      <td>663713001</td>\n",
       "      <td>0.050831</td>\n",
       "      <td>2</td>\n",
       "      <td>Atlanta Push Body Harlow</td>\n",
       "      <td>Underwear body</td>\n",
       "      <td>Underwear</td>\n",
       "      <td>Solid</td>\n",
       "      <td>Black</td>\n",
       "      <td>...</td>\n",
       "      <td>Lingeries/Tights</td>\n",
       "      <td>Ladieswear</td>\n",
       "      <td>Womens Lingerie</td>\n",
       "      <td>Under-, Nightwear</td>\n",
       "      <td>Lace push-up body with underwired, moulded, pa...</td>\n",
       "      <td>NaN</td>\n",
       "      <td>ACTIVE</td>\n",
       "      <td>NONE</td>\n",
       "      <td>24.0</td>\n",
       "      <td>64f17e6a330a85798e4998f62d0930d14db8db1c054af6...</td>\n",
       "    </tr>\n",
       "    <tr>\n",
       "      <th>2</th>\n",
       "      <td>2018-09-20</td>\n",
       "      <td>000058a12d5b43e67d225668fa1f8d618c13dc232df0ca...</td>\n",
       "      <td>541518023</td>\n",
       "      <td>0.030492</td>\n",
       "      <td>2</td>\n",
       "      <td>Rae Push (Melbourne) 2p</td>\n",
       "      <td>Bra</td>\n",
       "      <td>Underwear</td>\n",
       "      <td>Solid</td>\n",
       "      <td>Light Pink</td>\n",
       "      <td>...</td>\n",
       "      <td>Lingeries/Tights</td>\n",
       "      <td>Ladieswear</td>\n",
       "      <td>Womens Lingerie</td>\n",
       "      <td>Under-, Nightwear</td>\n",
       "      <td>Lace push-up bras with underwired, moulded, pa...</td>\n",
       "      <td>NaN</td>\n",
       "      <td>ACTIVE</td>\n",
       "      <td>NONE</td>\n",
       "      <td>24.0</td>\n",
       "      <td>64f17e6a330a85798e4998f62d0930d14db8db1c054af6...</td>\n",
       "    </tr>\n",
       "    <tr>\n",
       "      <th>3</th>\n",
       "      <td>2019-03-01</td>\n",
       "      <td>000058a12d5b43e67d225668fa1f8d618c13dc232df0ca...</td>\n",
       "      <td>578020002</td>\n",
       "      <td>0.013542</td>\n",
       "      <td>2</td>\n",
       "      <td>Pluto OTS</td>\n",
       "      <td>Blouse</td>\n",
       "      <td>Garment Upper body</td>\n",
       "      <td>Stripe</td>\n",
       "      <td>Light Blue</td>\n",
       "      <td>...</td>\n",
       "      <td>Ladieswear</td>\n",
       "      <td>Ladieswear</td>\n",
       "      <td>Womens Casual</td>\n",
       "      <td>Blouses</td>\n",
       "      <td>Off-the-shoulder top in a cotton weave with el...</td>\n",
       "      <td>NaN</td>\n",
       "      <td>ACTIVE</td>\n",
       "      <td>NONE</td>\n",
       "      <td>24.0</td>\n",
       "      <td>64f17e6a330a85798e4998f62d0930d14db8db1c054af6...</td>\n",
       "    </tr>\n",
       "    <tr>\n",
       "      <th>4</th>\n",
       "      <td>2020-02-03</td>\n",
       "      <td>000058a12d5b43e67d225668fa1f8d618c13dc232df0ca...</td>\n",
       "      <td>351484002</td>\n",
       "      <td>0.022017</td>\n",
       "      <td>2</td>\n",
       "      <td>Lazer Razer Brief</td>\n",
       "      <td>Swimwear bottom</td>\n",
       "      <td>Swimwear</td>\n",
       "      <td>Solid</td>\n",
       "      <td>Black</td>\n",
       "      <td>...</td>\n",
       "      <td>Lingeries/Tights</td>\n",
       "      <td>Ladieswear</td>\n",
       "      <td>Womens Swimwear, beachwear</td>\n",
       "      <td>Swimwear</td>\n",
       "      <td>Fully lined bikini bottoms with a mid waist, m...</td>\n",
       "      <td>NaN</td>\n",
       "      <td>ACTIVE</td>\n",
       "      <td>NONE</td>\n",
       "      <td>24.0</td>\n",
       "      <td>64f17e6a330a85798e4998f62d0930d14db8db1c054af6...</td>\n",
       "    </tr>\n",
       "  </tbody>\n",
       "</table>\n",
       "<p>5 rows × 23 columns</p>\n",
       "</div>"
      ],
      "text/plain": [
       "        t_dat                                        customer_id  article_id  \\\n",
       "0  2018-09-20  000058a12d5b43e67d225668fa1f8d618c13dc232df0ca...   663713001   \n",
       "1  2018-09-24  000058a12d5b43e67d225668fa1f8d618c13dc232df0ca...   663713001   \n",
       "2  2018-09-20  000058a12d5b43e67d225668fa1f8d618c13dc232df0ca...   541518023   \n",
       "3  2019-03-01  000058a12d5b43e67d225668fa1f8d618c13dc232df0ca...   578020002   \n",
       "4  2020-02-03  000058a12d5b43e67d225668fa1f8d618c13dc232df0ca...   351484002   \n",
       "\n",
       "      price  sales_channel_id                 prod_name product_type_name  \\\n",
       "0  0.050831                 2  Atlanta Push Body Harlow    Underwear body   \n",
       "1  0.050831                 2  Atlanta Push Body Harlow    Underwear body   \n",
       "2  0.030492                 2   Rae Push (Melbourne) 2p               Bra   \n",
       "3  0.013542                 2                 Pluto OTS            Blouse   \n",
       "4  0.022017                 2         Lazer Razer Brief   Swimwear bottom   \n",
       "\n",
       "   product_group_name graphical_appearance_name colour_group_name  ...  \\\n",
       "0           Underwear                     Solid             Black  ...   \n",
       "1           Underwear                     Solid             Black  ...   \n",
       "2           Underwear                     Solid        Light Pink  ...   \n",
       "3  Garment Upper body                    Stripe        Light Blue  ...   \n",
       "4            Swimwear                     Solid             Black  ...   \n",
       "\n",
       "         index_name index_group_name                section_name  \\\n",
       "0  Lingeries/Tights       Ladieswear             Womens Lingerie   \n",
       "1  Lingeries/Tights       Ladieswear             Womens Lingerie   \n",
       "2  Lingeries/Tights       Ladieswear             Womens Lingerie   \n",
       "3        Ladieswear       Ladieswear               Womens Casual   \n",
       "4  Lingeries/Tights       Ladieswear  Womens Swimwear, beachwear   \n",
       "\n",
       "  garment_group_name                                        detail_desc  \\\n",
       "0  Under-, Nightwear  Lace push-up body with underwired, moulded, pa...   \n",
       "1  Under-, Nightwear  Lace push-up body with underwired, moulded, pa...   \n",
       "2  Under-, Nightwear  Lace push-up bras with underwired, moulded, pa...   \n",
       "3            Blouses  Off-the-shoulder top in a cotton weave with el...   \n",
       "4           Swimwear  Fully lined bikini bottoms with a mid waist, m...   \n",
       "\n",
       "  Active club_member_status fashion_news_frequency   age  \\\n",
       "0    NaN             ACTIVE                   NONE  24.0   \n",
       "1    NaN             ACTIVE                   NONE  24.0   \n",
       "2    NaN             ACTIVE                   NONE  24.0   \n",
       "3    NaN             ACTIVE                   NONE  24.0   \n",
       "4    NaN             ACTIVE                   NONE  24.0   \n",
       "\n",
       "                                         postal_code  \n",
       "0  64f17e6a330a85798e4998f62d0930d14db8db1c054af6...  \n",
       "1  64f17e6a330a85798e4998f62d0930d14db8db1c054af6...  \n",
       "2  64f17e6a330a85798e4998f62d0930d14db8db1c054af6...  \n",
       "3  64f17e6a330a85798e4998f62d0930d14db8db1c054af6...  \n",
       "4  64f17e6a330a85798e4998f62d0930d14db8db1c054af6...  \n",
       "\n",
       "[5 rows x 23 columns]"
      ]
     },
     "execution_count": 12,
     "metadata": {},
     "output_type": "execute_result"
    }
   ],
   "source": [
    "# Check final combined df of customers and edited transformations\n",
    "df_final[df_final['customer_id']=='000058a12d5b43e67d225668fa1f8d618c13dc232df0cad8ffe7ad4a1091e318'].head()"
   ]
  },
  {
   "cell_type": "markdown",
   "metadata": {},
   "source": [
    "### 1.3.3 Export joined tables into CSV"
   ]
  },
  {
   "cell_type": "code",
   "execution_count": 13,
   "metadata": {},
   "outputs": [
    {
     "name": "stdout",
     "output_type": "stream",
     "text": [
      "-----Exporting final dataframe-----\n",
      "Final Dataframe shape: (31788324, 23)\n",
      "Final Columns: ['t_dat', 'customer_id', 'article_id', 'price', 'sales_channel_id', 'prod_name', 'product_type_name', 'product_group_name', 'graphical_appearance_name', 'colour_group_name', 'perceived_colour_value_name', 'perceived_colour_master_name', 'department_name', 'index_name', 'index_group_name', 'section_name', 'garment_group_name', 'detail_desc', 'Active', 'club_member_status', 'fashion_news_frequency', 'age', 'postal_code']\n"
     ]
    }
   ],
   "source": [
    "print('-----Exporting final dataframe-----')\n",
    "print('Final Dataframe shape:',df_final.shape)\n",
    "print('Final Columns:',list(df_final.columns))"
   ]
  },
  {
   "cell_type": "code",
   "execution_count": 14,
   "metadata": {},
   "outputs": [
    {
     "ename": "OSError",
     "evalue": "[Errno 28] No space left on device",
     "output_type": "error",
     "traceback": [
      "\u001b[0;31m---------------------------------------------------------------------------\u001b[0m",
      "\u001b[0;31mOSError\u001b[0m                                   Traceback (most recent call last)",
      "\u001b[0;32m<ipython-input-14-aa6ba14a1b57>\u001b[0m in \u001b[0;36m<module>\u001b[0;34m\u001b[0m\n\u001b[0;32m----> 1\u001b[0;31m \u001b[0mdf_final\u001b[0m\u001b[0;34m.\u001b[0m\u001b[0mto_csv\u001b[0m\u001b[0;34m(\u001b[0m\u001b[0;34m'final_df.csv'\u001b[0m\u001b[0;34m,\u001b[0m\u001b[0mindex\u001b[0m\u001b[0;34m=\u001b[0m\u001b[0;32mFalse\u001b[0m\u001b[0;34m)\u001b[0m\u001b[0;34m\u001b[0m\u001b[0;34m\u001b[0m\u001b[0m\n\u001b[0m\u001b[1;32m      2\u001b[0m \u001b[0mprint\u001b[0m\u001b[0;34m(\u001b[0m\u001b[0;34m'Final combined dataframe exported successfully!'\u001b[0m\u001b[0;34m)\u001b[0m\u001b[0;34m\u001b[0m\u001b[0;34m\u001b[0m\u001b[0m\n",
      "\u001b[0;32m~/opt/anaconda3/lib/python3.7/site-packages/pandas/core/generic.py\u001b[0m in \u001b[0;36mto_csv\u001b[0;34m(self, path_or_buf, sep, na_rep, float_format, columns, header, index, index_label, mode, encoding, compression, quoting, quotechar, line_terminator, chunksize, date_format, doublequote, escapechar, decimal, errors, storage_options)\u001b[0m\n\u001b[1;32m   3477\u001b[0m             \u001b[0mdoublequote\u001b[0m\u001b[0;34m=\u001b[0m\u001b[0mdoublequote\u001b[0m\u001b[0;34m,\u001b[0m\u001b[0;34m\u001b[0m\u001b[0;34m\u001b[0m\u001b[0m\n\u001b[1;32m   3478\u001b[0m             \u001b[0mescapechar\u001b[0m\u001b[0;34m=\u001b[0m\u001b[0mescapechar\u001b[0m\u001b[0;34m,\u001b[0m\u001b[0;34m\u001b[0m\u001b[0;34m\u001b[0m\u001b[0m\n\u001b[0;32m-> 3479\u001b[0;31m             \u001b[0mstorage_options\u001b[0m\u001b[0;34m=\u001b[0m\u001b[0mstorage_options\u001b[0m\u001b[0;34m,\u001b[0m\u001b[0;34m\u001b[0m\u001b[0;34m\u001b[0m\u001b[0m\n\u001b[0m\u001b[1;32m   3480\u001b[0m         )\n\u001b[1;32m   3481\u001b[0m \u001b[0;34m\u001b[0m\u001b[0m\n",
      "\u001b[0;32m~/opt/anaconda3/lib/python3.7/site-packages/pandas/io/formats/format.py\u001b[0m in \u001b[0;36mto_csv\u001b[0;34m(self, path_or_buf, encoding, sep, columns, index_label, mode, compression, quoting, quotechar, line_terminator, chunksize, date_format, doublequote, escapechar, errors, storage_options)\u001b[0m\n\u001b[1;32m   1103\u001b[0m             \u001b[0mformatter\u001b[0m\u001b[0;34m=\u001b[0m\u001b[0mself\u001b[0m\u001b[0;34m.\u001b[0m\u001b[0mfmt\u001b[0m\u001b[0;34m,\u001b[0m\u001b[0;34m\u001b[0m\u001b[0;34m\u001b[0m\u001b[0m\n\u001b[1;32m   1104\u001b[0m         )\n\u001b[0;32m-> 1105\u001b[0;31m         \u001b[0mcsv_formatter\u001b[0m\u001b[0;34m.\u001b[0m\u001b[0msave\u001b[0m\u001b[0;34m(\u001b[0m\u001b[0;34m)\u001b[0m\u001b[0;34m\u001b[0m\u001b[0;34m\u001b[0m\u001b[0m\n\u001b[0m\u001b[1;32m   1106\u001b[0m \u001b[0;34m\u001b[0m\u001b[0m\n\u001b[1;32m   1107\u001b[0m         \u001b[0;32mif\u001b[0m \u001b[0mcreated_buffer\u001b[0m\u001b[0;34m:\u001b[0m\u001b[0;34m\u001b[0m\u001b[0;34m\u001b[0m\u001b[0m\n",
      "\u001b[0;32m~/opt/anaconda3/lib/python3.7/site-packages/pandas/io/formats/csvs.py\u001b[0m in \u001b[0;36msave\u001b[0;34m(self)\u001b[0m\n\u001b[1;32m    255\u001b[0m             )\n\u001b[1;32m    256\u001b[0m \u001b[0;34m\u001b[0m\u001b[0m\n\u001b[0;32m--> 257\u001b[0;31m             \u001b[0mself\u001b[0m\u001b[0;34m.\u001b[0m\u001b[0m_save\u001b[0m\u001b[0;34m(\u001b[0m\u001b[0;34m)\u001b[0m\u001b[0;34m\u001b[0m\u001b[0;34m\u001b[0m\u001b[0m\n\u001b[0m\u001b[1;32m    258\u001b[0m \u001b[0;34m\u001b[0m\u001b[0m\n\u001b[1;32m    259\u001b[0m     \u001b[0;32mdef\u001b[0m \u001b[0m_save\u001b[0m\u001b[0;34m(\u001b[0m\u001b[0mself\u001b[0m\u001b[0;34m)\u001b[0m \u001b[0;34m->\u001b[0m \u001b[0;32mNone\u001b[0m\u001b[0;34m:\u001b[0m\u001b[0;34m\u001b[0m\u001b[0;34m\u001b[0m\u001b[0m\n",
      "\u001b[0;32m~/opt/anaconda3/lib/python3.7/site-packages/pandas/io/formats/csvs.py\u001b[0m in \u001b[0;36m_save\u001b[0;34m(self)\u001b[0m\n\u001b[1;32m    260\u001b[0m         \u001b[0;32mif\u001b[0m \u001b[0mself\u001b[0m\u001b[0;34m.\u001b[0m\u001b[0m_need_to_save_header\u001b[0m\u001b[0;34m:\u001b[0m\u001b[0;34m\u001b[0m\u001b[0;34m\u001b[0m\u001b[0m\n\u001b[1;32m    261\u001b[0m             \u001b[0mself\u001b[0m\u001b[0;34m.\u001b[0m\u001b[0m_save_header\u001b[0m\u001b[0;34m(\u001b[0m\u001b[0;34m)\u001b[0m\u001b[0;34m\u001b[0m\u001b[0;34m\u001b[0m\u001b[0m\n\u001b[0;32m--> 262\u001b[0;31m         \u001b[0mself\u001b[0m\u001b[0;34m.\u001b[0m\u001b[0m_save_body\u001b[0m\u001b[0;34m(\u001b[0m\u001b[0;34m)\u001b[0m\u001b[0;34m\u001b[0m\u001b[0;34m\u001b[0m\u001b[0m\n\u001b[0m\u001b[1;32m    263\u001b[0m \u001b[0;34m\u001b[0m\u001b[0m\n\u001b[1;32m    264\u001b[0m     \u001b[0;32mdef\u001b[0m \u001b[0m_save_header\u001b[0m\u001b[0;34m(\u001b[0m\u001b[0mself\u001b[0m\u001b[0;34m)\u001b[0m \u001b[0;34m->\u001b[0m \u001b[0;32mNone\u001b[0m\u001b[0;34m:\u001b[0m\u001b[0;34m\u001b[0m\u001b[0;34m\u001b[0m\u001b[0m\n",
      "\u001b[0;32m~/opt/anaconda3/lib/python3.7/site-packages/pandas/io/formats/csvs.py\u001b[0m in \u001b[0;36m_save_body\u001b[0;34m(self)\u001b[0m\n\u001b[1;32m    298\u001b[0m             \u001b[0;32mif\u001b[0m \u001b[0mstart_i\u001b[0m \u001b[0;34m>=\u001b[0m \u001b[0mend_i\u001b[0m\u001b[0;34m:\u001b[0m\u001b[0;34m\u001b[0m\u001b[0;34m\u001b[0m\u001b[0m\n\u001b[1;32m    299\u001b[0m                 \u001b[0;32mbreak\u001b[0m\u001b[0;34m\u001b[0m\u001b[0;34m\u001b[0m\u001b[0m\n\u001b[0;32m--> 300\u001b[0;31m             \u001b[0mself\u001b[0m\u001b[0;34m.\u001b[0m\u001b[0m_save_chunk\u001b[0m\u001b[0;34m(\u001b[0m\u001b[0mstart_i\u001b[0m\u001b[0;34m,\u001b[0m \u001b[0mend_i\u001b[0m\u001b[0;34m)\u001b[0m\u001b[0;34m\u001b[0m\u001b[0;34m\u001b[0m\u001b[0m\n\u001b[0m\u001b[1;32m    301\u001b[0m \u001b[0;34m\u001b[0m\u001b[0m\n\u001b[1;32m    302\u001b[0m     \u001b[0;32mdef\u001b[0m \u001b[0m_save_chunk\u001b[0m\u001b[0;34m(\u001b[0m\u001b[0mself\u001b[0m\u001b[0;34m,\u001b[0m \u001b[0mstart_i\u001b[0m\u001b[0;34m:\u001b[0m \u001b[0mint\u001b[0m\u001b[0;34m,\u001b[0m \u001b[0mend_i\u001b[0m\u001b[0;34m:\u001b[0m \u001b[0mint\u001b[0m\u001b[0;34m)\u001b[0m \u001b[0;34m->\u001b[0m \u001b[0;32mNone\u001b[0m\u001b[0;34m:\u001b[0m\u001b[0;34m\u001b[0m\u001b[0;34m\u001b[0m\u001b[0m\n",
      "\u001b[0;32m~/opt/anaconda3/lib/python3.7/site-packages/pandas/io/formats/csvs.py\u001b[0m in \u001b[0;36m_save_chunk\u001b[0;34m(self, start_i, end_i)\u001b[0m\n\u001b[1;32m    314\u001b[0m             \u001b[0mself\u001b[0m\u001b[0;34m.\u001b[0m\u001b[0mnlevels\u001b[0m\u001b[0;34m,\u001b[0m\u001b[0;34m\u001b[0m\u001b[0;34m\u001b[0m\u001b[0m\n\u001b[1;32m    315\u001b[0m             \u001b[0mself\u001b[0m\u001b[0;34m.\u001b[0m\u001b[0mcols\u001b[0m\u001b[0;34m,\u001b[0m\u001b[0;34m\u001b[0m\u001b[0;34m\u001b[0m\u001b[0m\n\u001b[0;32m--> 316\u001b[0;31m             \u001b[0mself\u001b[0m\u001b[0;34m.\u001b[0m\u001b[0mwriter\u001b[0m\u001b[0;34m,\u001b[0m\u001b[0;34m\u001b[0m\u001b[0;34m\u001b[0m\u001b[0m\n\u001b[0m\u001b[1;32m    317\u001b[0m         )\n",
      "\u001b[0;32m~/opt/anaconda3/lib/python3.7/site-packages/pandas/_libs/writers.pyx\u001b[0m in \u001b[0;36mpandas._libs.writers.write_csv_rows\u001b[0;34m()\u001b[0m\n",
      "\u001b[0;31mOSError\u001b[0m: [Errno 28] No space left on device"
     ]
    }
   ],
   "source": [
    "df_final.to_csv('final_df.csv',index=False)\n",
    "print('Final combined dataframe exported successfully!')"
   ]
  },
  {
   "cell_type": "markdown",
   "metadata": {},
   "source": [
    "# 2 Exploratory Data Analysis on H&M Data"
   ]
  },
  {
   "cell_type": "markdown",
   "metadata": {},
   "source": [
    "## 2.1 Import libraries and read data"
   ]
  },
  {
   "cell_type": "code",
   "execution_count": null,
   "metadata": {},
   "outputs": [],
   "source": [
    "import pandas as pd\n",
    "import matplotlib\n",
    "import numpy as np\n",
    "import seaborn as sns\n",
    "\n",
    "from matplotlib import pyplot as plt"
   ]
  },
  {
   "cell_type": "code",
   "execution_count": null,
   "metadata": {},
   "outputs": [],
   "source": [
    "df = pd.read_csv('final_df.csv')\n",
    "print('Shape:',df.shape)\n",
    "print('Columns:',df.columns)\n",
    "df.head()"
   ]
  },
  {
   "cell_type": "markdown",
   "metadata": {},
   "source": [
    "## 2.2 Preliminary data checks & Basic statistical analysis"
   ]
  },
  {
   "cell_type": "code",
   "execution_count": null,
   "metadata": {},
   "outputs": [],
   "source": [
    "# Check null values\n",
    "for col in df.columns:\n",
    "    print(\"Number of Null Values in\", col, \": \", len(df[df[col].isna()]), \"/\", len(df))"
   ]
  },
  {
   "cell_type": "code",
   "execution_count": null,
   "metadata": {},
   "outputs": [],
   "source": [
    "# Replace na values\n",
    "df['detail_desc'] = df['detail_desc'].fillna('')\n",
    "df['Active'] = df['Active'].fillna(0)\n",
    "df['club_member_status'] = df['club_member_status'].fillna('NONE')\n",
    "df['fashion_news_frequency'] = df['fashion_news_frequency'].fillna('None')\n",
    "df['fashion_news_frequency'] = df['fashion_news_frequency'].replace(['NONE'],'None')\n",
    "df['detail_desc'] = df['detail_desc'].fillna('')\n",
    "df = df.dropna(subset=['age'])\n",
    "\n",
    "# Check null values\n",
    "for col in df.columns:\n",
    "    print(\"Number of Null Values in\", col, \": \", len(df[df[col].isna()]), \"/\", len(df))"
   ]
  },
  {
   "cell_type": "code",
   "execution_count": null,
   "metadata": {},
   "outputs": [],
   "source": [
    "# Check data types\n",
    "df.dtypes"
   ]
  },
  {
   "cell_type": "code",
   "execution_count": null,
   "metadata": {},
   "outputs": [],
   "source": [
    "# Convert datatypes to suitable datatypes\n",
    "df = df.astype({'t_dat':'datetime64[ns]',\n",
    "                'customer_id':'str',\n",
    "                'article_id':'str',\n",
    "                'price':'float',\n",
    "                'sales_channel_id':'str',\n",
    "                'prod_name':'category',\n",
    "                'product_type_name':'category',\n",
    "                'product_group_name':'category',\n",
    "                'graphical_appearance_name':'category',\n",
    "                'colour_group_name':'category',\n",
    "                'perceived_colour_value_name':'category',\n",
    "                'perceived_colour_master_name':'category',\n",
    "                'department_name':'category',\n",
    "                'index_name':'category',\n",
    "                'index_group_name':'category',\n",
    "                'section_name':'category',\n",
    "                'garment_group_name':'category',\n",
    "                'detail_desc':'str',\n",
    "                'Active':'category',\n",
    "                'club_member_status':'category',\n",
    "                'fashion_news_frequency':'category',\n",
    "                'age':'int64',\n",
    "                'postal_code':'category'})\n",
    "df.dtypes"
   ]
  },
  {
   "cell_type": "code",
   "execution_count": null,
   "metadata": {},
   "outputs": [],
   "source": [
    "df.info()"
   ]
  },
  {
   "cell_type": "code",
   "execution_count": null,
   "metadata": {},
   "outputs": [],
   "source": [
    "# Check description\n",
    "df.describe()"
   ]
  },
  {
   "cell_type": "markdown",
   "metadata": {},
   "source": [
    "## 2.3 Correlation analysis"
   ]
  },
  {
   "cell_type": "code",
   "execution_count": null,
   "metadata": {},
   "outputs": [],
   "source": [
    "corr = df.corr()\n",
    "corr"
   ]
  },
  {
   "cell_type": "code",
   "execution_count": null,
   "metadata": {},
   "outputs": [],
   "source": [
    "# ax = sns.heatmap(df, linewidth = 0.5, cmap = 'coolwarm' )\n",
    "  \n",
    "# plt.title( \"2-D Heat Map\" )\n",
    "# plt.show()\n",
    "\n",
    "# > Kernel dies"
   ]
  },
  {
   "cell_type": "markdown",
   "metadata": {},
   "source": [
    "## 2.4 Data Distribution\n",
    "3 types: \n",
    "    (1) Categorical variables \n",
    "    (2) Numerical/Continuous variables \n",
    "    (3) Date variables"
   ]
  },
  {
   "cell_type": "code",
   "execution_count": null,
   "metadata": {},
   "outputs": [],
   "source": [
    "cat_var = ['prod_name', 'product_type_name', 'product_group_name', \\\n",
    "           'graphical_appearance_name', 'colour_group_name', \\\n",
    "           'perceived_colour_value_name', 'perceived_colour_master_name', \\\n",
    "           'department_name', 'index_name', 'index_group_name', 'section_name', \\\n",
    "           'garment_group_name', 'club_member_status', 'fashion_news_frequency', \\\n",
    "           'postal_code']"
   ]
  },
  {
   "cell_type": "code",
   "execution_count": null,
   "metadata": {},
   "outputs": [],
   "source": [
    "num_var = ['price', 'age']"
   ]
  },
  {
   "cell_type": "code",
   "execution_count": null,
   "metadata": {},
   "outputs": [],
   "source": [
    "date_var = ['t_dat']"
   ]
  },
  {
   "cell_type": "markdown",
   "metadata": {},
   "source": [
    "### 2.4.1 Distribution of Categorical Variables\n",
    "Categorical Variables: \n",
    "- [prod_name, product_type_name, product_group_name, graphical_appearance_name, colour_group_name, perceived_colour_value_name, perceived_colour_master_name, department_name, index_name, index_group_name, section_name, garment_group_name, club_member_status, fashion_news_frequency, postal_code]"
   ]
  },
  {
   "cell_type": "code",
   "execution_count": null,
   "metadata": {},
   "outputs": [],
   "source": [
    "def countplot(df, var_col, xticklabels, rank, rotate=False, horizontal=False):\n",
    "    plt.figure(figsize=(10,5))\n",
    "    if not horizontal:\n",
    "        ax = sns.countplot(x=var_col, data=df)\n",
    "        ax.set(xlabel=var_col, ylabel='Count')\n",
    "        for p in ax.patches:\n",
    "            ax.annotate(p.get_height(), \n",
    "                        (p.get_x() + p.get_width() / 2., p.get_height()), \n",
    "                        ha='center', \n",
    "                        va='center', \n",
    "                        xytext=(0, 10), \n",
    "                        textcoords='offset points')\n",
    "            \n",
    "        ax.set_xticklabels(xticklabels)\n",
    "        ax.get_xaxis().set_major_formatter(\n",
    "            matplotlib.ticker.FuncFormatter(lambda x, p: format(int(x), ',')))\n",
    "        if rotate:\n",
    "            plt.xticks(rotation=90)\n",
    "\n",
    "        max_height = max([x.get_height() for x in ax.patches])    \n",
    "        plt.ylim(0, max_height*1.25)\n",
    "        plt.title(f'Distribution of {var_col}')\n",
    "    else:\n",
    "        if rank == 'top 10':\n",
    "            ax = sns.countplot(y=var_col, data=df, order=df[var_col].value_counts().iloc[:10].index)\n",
    "            ax.set(xlabel='Count', ylabel=f'Top 10 {var_col}')\n",
    "            \n",
    "        elif rank == 'bottom 10':\n",
    "            ax = sns.countplot(y=var_col, data=df, order=df[var_col].value_counts().iloc[-10:].index)\n",
    "            ax.set(xlabel='Count', ylabel=f'Bottom 10 {var_col}')\n",
    "            \n",
    "        for p in ax.patches:\n",
    "            ax.annotate(format(p.get_width(), '.0f'), \n",
    "            (p.get_x() + p.get_width() + 7, p.get_y() + p.get_height()), ha='center', va='center', \n",
    "            xytext=(25, 10), textcoords='offset points')\n",
    "\n",
    "        ax.get_xaxis().set_major_formatter(\n",
    "            matplotlib.ticker.FuncFormatter(lambda x, p: format(int(x), ',')))\n",
    "        max_width = max([x.get_width() for x in ax.patches])    \n",
    "        plt.xlim(0, max_width*1.25)\n",
    "        plt.title(f'Distribution of {var_col}')\n",
    "        plt.show()"
   ]
  },
  {
   "cell_type": "code",
   "execution_count": null,
   "metadata": {
    "scrolled": true
   },
   "outputs": [],
   "source": [
    "# Get Top 10 and Bottom 10 of all categorical variables\n",
    "# - prod_name and postal_code have only count 1 for items in the bottom 10\n",
    "for var in cat_var:\n",
    "    print('Variable:', var)\n",
    "    if (len(list(df[var].unique())) <= 10) or var in ['prod_name', 'postal_code']:\n",
    "        countplot(df, var, [], 'top 10', horizontal=True)\n",
    "    else: # len(list(df[var].unique())) > 10 > variables with more than 10 types\n",
    "        for rank in ['top 10', 'bottom 10']:\n",
    "            countplot(df, var, [], rank, horizontal=True)\n",
    "    print('-------------')"
   ]
  },
  {
   "cell_type": "code",
   "execution_count": null,
   "metadata": {},
   "outputs": [],
   "source": [
    "def bottom_cats(var):\n",
    "    total_count = 0\n",
    "    for count, index_name in zip(list(df[var].value_counts()), list(df[var].value_counts().index)):\n",
    "        total_count += 1\n",
    "        if count == 1:\n",
    "            print(index_name, count)\n",
    "    print('Total number of records with count 1:',total_count)"
   ]
  },
  {
   "cell_type": "code",
   "execution_count": null,
   "metadata": {
    "scrolled": true
   },
   "outputs": [],
   "source": [
    "# Check types for 'prod_name' and 'postal_code' with count 1\n",
    "for var in ['prod_name', 'postal_code']:\n",
    "    print('Variable:', var)\n",
    "    bottom_cats(var)\n",
    "    print('-------------\\n')"
   ]
  },
  {
   "cell_type": "markdown",
   "metadata": {},
   "source": [
    "### 2.4.2 Distribution of Continuous Variables\n",
    "- [price, age]"
   ]
  },
  {
   "cell_type": "code",
   "execution_count": null,
   "metadata": {},
   "outputs": [],
   "source": [
    "def hist_boxplot(df, var_col):\n",
    "    fig, axes = plt.subplots(1, 2, figsize=(12, 4))\n",
    "\n",
    "    df.hist(column=[var_col], bins=10, ax=axes[0])\n",
    "    axes[0].set_title(f'Distribution of {var_col} using Histogram')\n",
    "    axes[0].get_yaxis().set_major_formatter(\n",
    "            matplotlib.ticker.FuncFormatter(lambda x, p: format(int(x), ',')))\n",
    "\n",
    "    df.boxplot(column=[var_col], return_type='axes', ax=axes[1])\n",
    "    axes[1].set_title(f'Distribution of {var_col} using Boxplot')\n",
    "\n",
    "    plt.show()"
   ]
  },
  {
   "cell_type": "code",
   "execution_count": null,
   "metadata": {},
   "outputs": [],
   "source": [
    "df['price'].value_counts().iloc[:10]"
   ]
  },
  {
   "cell_type": "code",
   "execution_count": null,
   "metadata": {},
   "outputs": [],
   "source": [
    "df['price'].value_counts().iloc[:10].index"
   ]
  },
  {
   "cell_type": "code",
   "execution_count": null,
   "metadata": {},
   "outputs": [],
   "source": [
    "hist_boxplot(df, 'price')"
   ]
  },
  {
   "cell_type": "code",
   "execution_count": null,
   "metadata": {},
   "outputs": [],
   "source": [
    "df['price'].describe()"
   ]
  },
  {
   "cell_type": "code",
   "execution_count": null,
   "metadata": {},
   "outputs": [],
   "source": [
    "hist_boxplot(df, 'age')"
   ]
  },
  {
   "cell_type": "code",
   "execution_count": null,
   "metadata": {},
   "outputs": [],
   "source": [
    "df['age'].describe()"
   ]
  },
  {
   "cell_type": "markdown",
   "metadata": {},
   "source": [
    "### 2.4.3 Distribution of Date Variables\n",
    "- [t_dat]\n",
    "- Obtain the number of transactions over the years to see if there are any seasonal trends"
   ]
  },
  {
   "cell_type": "code",
   "execution_count": null,
   "metadata": {},
   "outputs": [],
   "source": [
    "def barplot(df, var_col, title=None):\n",
    "    plt.figure(figsize=(10,5))\n",
    "    ax = sns.barplot(x=var_col, y='Counts', data=df)\n",
    "    for p in ax.patches:\n",
    "        ax.annotate(p.get_height()/1000000, \n",
    "                    (p.get_x() + p.get_width() / 2., p.get_height()), \n",
    "                    ha='center', \n",
    "                    va='center', \n",
    "                    xytext=(0, 10), \n",
    "                    textcoords='offset points')\n",
    "\n",
    "    max_height = max([x.get_height() for x in ax.patches])    \n",
    "    plt.ylim(0, max_height*1.25)\n",
    "    ax.get_yaxis().set_major_formatter(\n",
    "        matplotlib.ticker.FuncFormatter(lambda x, p: format(int(x)/1000000, ',')))\n",
    "\n",
    "    if title:\n",
    "        ax.set_title(title)\n",
    "    else:\n",
    "        ax.set_title(f'Distribution for {var_col}')"
   ]
  },
  {
   "cell_type": "code",
   "execution_count": null,
   "metadata": {},
   "outputs": [],
   "source": [
    "# Distribution for all years\n",
    "df_grouped = df['t_dat'].groupby(df['t_dat'].dt.year).size().reset_index(name='Counts')\n",
    "barplot(df_grouped, 't_dat', 'Distribution for All Years in t_dat (in mil)')"
   ]
  },
  {
   "cell_type": "code",
   "execution_count": null,
   "metadata": {},
   "outputs": [],
   "source": [
    "# Distribution within year (Year = 2018)\n",
    "tdat_2018 = df[df['t_dat'].dt.year == 2018]\n",
    "df_grouped = tdat_2018['t_dat'].groupby(tdat_2018['t_dat'].dt.month).size().reset_index(name='Counts')\n",
    "barplot(df_grouped, 't_dat', 'Distribution for Year=2018 in t_dat (in mil)')"
   ]
  },
  {
   "cell_type": "code",
   "execution_count": null,
   "metadata": {},
   "outputs": [],
   "source": [
    "# Distribution within year (Year = 2019)\n",
    "tdat_2019 = df[df['t_dat'].dt.year == 2019]\n",
    "df_grouped = tdat_2019['t_dat'].groupby(tdat_2019['t_dat'].dt.month).size().reset_index(name='Counts')\n",
    "barplot(df_grouped, 't_dat', 'Distribution for Year=2019 in t_dat (in mil)')"
   ]
  },
  {
   "cell_type": "code",
   "execution_count": null,
   "metadata": {},
   "outputs": [],
   "source": [
    "# Distribution within year (Year = 2020)\n",
    "tdat_2020 = df[df['t_dat'].dt.year == 2020]\n",
    "df_grouped = tdat_2020['t_dat'].groupby(tdat_2020['t_dat'].dt.month).size().reset_index(name='Counts')\n",
    "barplot(df_grouped, 't_dat', 'Distribution for Year=2020 in t_dat (in mil)')"
   ]
  },
  {
   "cell_type": "markdown",
   "metadata": {},
   "source": [
    "## 2.5 Relationship between Categorical Variables\n",
    "Use the broadest category of each section: (otherwise too many)\n",
    "- product_group_name, graphical_appearance_name, perceived_colour_master_name, index_group_name, garment_group_name, club_member_status, fashion_news_frequency\n",
    "- Compare club_member_status vs the rest, and\n",
    "- Compare fashion_news_frequency vs the rest"
   ]
  },
  {
   "cell_type": "code",
   "execution_count": null,
   "metadata": {},
   "outputs": [],
   "source": [
    "def cross_tab(df, indep_col, dep_cols):\n",
    "    for dep_col in dep_cols:\n",
    "        ct = pd.crosstab(df[indep_col], df[dep_col], normalize='index')\n",
    "        print(ct)"
   ]
  },
  {
   "cell_type": "code",
   "execution_count": null,
   "metadata": {},
   "outputs": [],
   "source": [
    "df.loc[:,cat_var].head()"
   ]
  },
  {
   "cell_type": "code",
   "execution_count": null,
   "metadata": {},
   "outputs": [],
   "source": [
    "# Find unique items in broad categories\n",
    "broad_cat = ['product_group_name', 'graphical_appearance_name',\\\n",
    "             'perceived_colour_master_name', 'index_group_name', \\\n",
    "             'garment_group_name', 'club_member_status', \\\n",
    "             'fashion_news_frequency']\n",
    "\n",
    "for var in broad_cat:\n",
    "    print('Variable:',var)\n",
    "    print('Number of unique variables:',len(list(df[var].unique())))\n",
    "    print(list(df[var].unique()))\n",
    "    print('-------------')"
   ]
  },
  {
   "cell_type": "code",
   "execution_count": null,
   "metadata": {
    "scrolled": true
   },
   "outputs": [],
   "source": [
    "cross_tab(df, 'club_member_status', \\\n",
    "          ['product_group_name', 'graphical_appearance_name', \\\n",
    "           'perceived_colour_master_name','index_group_name', \\\n",
    "           'garment_group_name'])"
   ]
  },
  {
   "cell_type": "code",
   "execution_count": null,
   "metadata": {},
   "outputs": [],
   "source": [
    "cross_tab(df, 'fashion_news_frequency', \\\n",
    "          ['product_group_name', 'graphical_appearance_name', \\\n",
    "           'perceived_colour_master_name','index_group_name', \\\n",
    "           'garment_group_name'])"
   ]
  },
  {
   "cell_type": "code",
   "execution_count": null,
   "metadata": {},
   "outputs": [],
   "source": [
    "# Check for r/s btw club_member_status & fashion_news_frequency\n",
    "cross_tab(df, 'club_member_status', ['fashion_news_frequency'])"
   ]
  },
  {
   "cell_type": "markdown",
   "metadata": {},
   "source": [
    "## 2.6 Relationship of each variable with Price"
   ]
  },
  {
   "cell_type": "code",
   "execution_count": null,
   "metadata": {},
   "outputs": [],
   "source": [
    "df['price'] = pd.to_numeric(df.price, errors='coerce')"
   ]
  },
  {
   "cell_type": "markdown",
   "metadata": {},
   "source": [
    "### 2.6.1 Relationship of categorical variables with Price using Average"
   ]
  },
  {
   "cell_type": "code",
   "execution_count": null,
   "metadata": {},
   "outputs": [],
   "source": [
    "for var in cat_var:\n",
    "    print('Variable:',var)\n",
    "    \n",
    "    # Subset relevant column with Price\n",
    "    df_m = df.loc[:,[var,'price']]\n",
    "    \n",
    "    # Group by column and use average\n",
    "    df_m = df_m.groupby([var]).mean()\n",
    "    \n",
    "    # Plot heatmap\n",
    "    fig, ax = plt.subplots(figsize=(11, 9))\n",
    "    sns.heatmap(df_m)\n",
    "    plt.show()\n",
    "    \n",
    "    print('-------------\\n')"
   ]
  },
  {
   "cell_type": "markdown",
   "metadata": {},
   "source": [
    "### 2.6.2 Relationship of categorical variables with Price using Median"
   ]
  },
  {
   "cell_type": "code",
   "execution_count": null,
   "metadata": {},
   "outputs": [],
   "source": [
    "for var in cat_var:\n",
    "    print('Variable:',var)\n",
    "    \n",
    "    # Subset relevant column with Price\n",
    "    df_m = df.loc[:,[var,'price']]\n",
    "    \n",
    "    # Group by column and use average\n",
    "    df_m = df_m.groupby([var]).median()\n",
    "    \n",
    "    # Plot heatmap\n",
    "    fig, ax = plt.subplots(figsize=(11, 9))\n",
    "    sns.heatmap(df_m)\n",
    "    plt.title('Heatmap of {var} with Price', loc='center')\n",
    "    plt.show()\n",
    "    \n",
    "    print('-------------\\n')"
   ]
  },
  {
   "cell_type": "markdown",
   "metadata": {},
   "source": [
    "### 2.6.3 Relationship of continuous variables with Price (just Age)"
   ]
  },
  {
   "cell_type": "code",
   "execution_count": null,
   "metadata": {},
   "outputs": [],
   "source": [
    "# By actual age\n",
    "plt.scatter(df['age'], df['price'])\n",
    "plt.ylabel(\"Price\")\n",
    "plt.xlabel('Age')\n",
    "plt.xticks(rotation=90)\n",
    "plt.title('Scatter plot of Price against Age')\n",
    "plt.show()"
   ]
  },
  {
   "cell_type": "code",
   "execution_count": null,
   "metadata": {},
   "outputs": [],
   "source": [
    "# By age range (in bins)\n",
    "df_m = df.loc[:,['age','price']]\n",
    "\n",
    "bins = [-1, 10, 20, 30, 40, 50, 60, 70, 80, 90, 100]\n",
    "labels = ['Invalid','10-19', '20-29', '30-39', '40-49', '50-59', '60-69', \\\n",
    "          '70-79', '80-89', '90-99']\n",
    "df_m['age_range'] = pd.cut(df_m.age,bins,labels = labels,include_lowest = True)\n",
    "\n",
    "plt.scatter(df_m['age_range'], df_m['price'])\n",
    "plt.ylabel(\"Price\")\n",
    "plt.xlabel('Age')\n",
    "plt.xticks(rotation=90)\n",
    "plt.title('Scatter plot of Price against Age')\n",
    "plt.show()"
   ]
  },
  {
   "cell_type": "code",
   "execution_count": null,
   "metadata": {},
   "outputs": [],
   "source": [
    "df_m = df_m.drop(columns=['age'])\n",
    "df_m = df_m.groupby(['age_range']).mean()\n",
    "\n",
    "fig, ax = plt.subplots(figsize=(11, 9))\n",
    "sns.heatmap(df_m)\n",
    "plt.title('Heatmap of Age Range with Price', loc='center')\n",
    "plt.show()"
   ]
  },
  {
   "cell_type": "markdown",
   "metadata": {},
   "source": [
    "### 2.6.4 Relationship of date variables with Price (just Transaction Date)"
   ]
  },
  {
   "cell_type": "markdown",
   "metadata": {},
   "source": [
    "Using Average"
   ]
  },
  {
   "cell_type": "code",
   "execution_count": null,
   "metadata": {},
   "outputs": [],
   "source": [
    "# create a copy of the dataframe, and add columns for month and year\n",
    "df_m = df.loc[:,['t_dat','price']]\n",
    "df_m['month'] = [i.month for i in df_m['t_dat']]\n",
    "df_m['year'] = [i.year for i in df_m['t_dat']]\n",
    "\n",
    "# group by month and year, get the average\n",
    "df_m = df_m.groupby(['month', 'year']).mean()\n",
    "df_m.head()"
   ]
  },
  {
   "cell_type": "code",
   "execution_count": null,
   "metadata": {},
   "outputs": [],
   "source": [
    "df_m = df_m.unstack(level=0)\n",
    "df_m.head()"
   ]
  },
  {
   "cell_type": "code",
   "execution_count": null,
   "metadata": {},
   "outputs": [],
   "source": [
    "fig, ax = plt.subplots(figsize=(11, 9))\n",
    "sns.heatmap(df_m)\n",
    "plt.title('Heatmap of Transaction Date with Price', loc='center')\n",
    "plt.show()"
   ]
  },
  {
   "cell_type": "markdown",
   "metadata": {},
   "source": [
    "Using Median"
   ]
  },
  {
   "cell_type": "code",
   "execution_count": null,
   "metadata": {},
   "outputs": [],
   "source": [
    "# create a copy of the dataframe, and add columns for month and year\n",
    "df_m = df.loc[:,['t_dat','price']]\n",
    "df_m['month'] = [i.month for i in df_m['t_dat']]\n",
    "df_m['year'] = [i.year for i in df_m['t_dat']]\n",
    "\n",
    "# group by month and year, get the average\n",
    "df_m = df_m.groupby(['month', 'year']).median()\n",
    "df_m.head()"
   ]
  },
  {
   "cell_type": "code",
   "execution_count": null,
   "metadata": {},
   "outputs": [],
   "source": [
    "df_m = df_m.unstack(level=0)\n",
    "df_m.head()"
   ]
  },
  {
   "cell_type": "code",
   "execution_count": null,
   "metadata": {
    "scrolled": true
   },
   "outputs": [],
   "source": [
    "fig, ax = plt.subplots(figsize=(11, 9))\n",
    "sns.heatmap(df_ms\n",
    "plt.title('Heatmap of Transaction Date with Price', loc='center')\n",
    "plt.show()"
   ]
  },
  {
   "cell_type": "code",
   "execution_count": null,
   "metadata": {},
   "outputs": [],
   "source": []
  }
 ],
 "metadata": {
  "kernelspec": {
   "display_name": "Python 3",
   "language": "python",
   "name": "python3"
  },
  "language_info": {
   "codemirror_mode": {
    "name": "ipython",
    "version": 3
   },
   "file_extension": ".py",
   "mimetype": "text/x-python",
   "name": "python",
   "nbconvert_exporter": "python",
   "pygments_lexer": "ipython3",
   "version": "3.7.4"
  }
 },
 "nbformat": 4,
 "nbformat_minor": 2
}
