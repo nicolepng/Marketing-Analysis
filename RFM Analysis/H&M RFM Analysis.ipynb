{
 "cells": [
  {
   "cell_type": "markdown",
   "metadata": {},
   "source": [
    "# Recency, Frequency and Monetary Analysis on H&M Data"
   ]
  },
  {
   "cell_type": "markdown",
   "metadata": {},
   "source": [
    "## 1 Import libraries"
   ]
  },
  {
   "cell_type": "code",
   "execution_count": 1,
   "metadata": {},
   "outputs": [],
   "source": [
    "import datetime as dt\n",
    "import numpy as np\n",
    "import pandas as pd\n",
    "import seaborn as sns\n",
    "\n",
    "from matplotlib import pyplot as plt\n",
    "from scipy import stats"
   ]
  },
  {
   "cell_type": "markdown",
   "metadata": {},
   "source": [
    "## 2 Data pre-processing for RFM\n",
    "- Check variables\n",
    "- Derive Recency, Frequency and Monetary variables"
   ]
  },
  {
   "cell_type": "markdown",
   "metadata": {},
   "source": [
    "### 2.1 Read in CSV and Conduct Basic Analysis"
   ]
  },
  {
   "cell_type": "code",
   "execution_count": 2,
   "metadata": {},
   "outputs": [
    {
     "name": "stdout",
     "output_type": "stream",
     "text": [
      "Dataframe shape: (31788324, 5)\n",
      "Columns: ['t_dat', 'customer_id', 'article_id', 'price', 'sales_channel_id']\n"
     ]
    },
    {
     "data": {
      "text/html": [
       "<div>\n",
       "<style scoped>\n",
       "    .dataframe tbody tr th:only-of-type {\n",
       "        vertical-align: middle;\n",
       "    }\n",
       "\n",
       "    .dataframe tbody tr th {\n",
       "        vertical-align: top;\n",
       "    }\n",
       "\n",
       "    .dataframe thead th {\n",
       "        text-align: right;\n",
       "    }\n",
       "</style>\n",
       "<table border=\"1\" class=\"dataframe\">\n",
       "  <thead>\n",
       "    <tr style=\"text-align: right;\">\n",
       "      <th></th>\n",
       "      <th>t_dat</th>\n",
       "      <th>customer_id</th>\n",
       "      <th>article_id</th>\n",
       "      <th>price</th>\n",
       "      <th>sales_channel_id</th>\n",
       "    </tr>\n",
       "  </thead>\n",
       "  <tbody>\n",
       "    <tr>\n",
       "      <th>0</th>\n",
       "      <td>2018-09-20</td>\n",
       "      <td>000058a12d5b43e67d225668fa1f8d618c13dc232df0ca...</td>\n",
       "      <td>663713001</td>\n",
       "      <td>0.050831</td>\n",
       "      <td>2</td>\n",
       "    </tr>\n",
       "    <tr>\n",
       "      <th>1</th>\n",
       "      <td>2018-09-20</td>\n",
       "      <td>000058a12d5b43e67d225668fa1f8d618c13dc232df0ca...</td>\n",
       "      <td>541518023</td>\n",
       "      <td>0.030492</td>\n",
       "      <td>2</td>\n",
       "    </tr>\n",
       "    <tr>\n",
       "      <th>2</th>\n",
       "      <td>2018-09-20</td>\n",
       "      <td>00007d2de826758b65a93dd24ce629ed66842531df6699...</td>\n",
       "      <td>505221004</td>\n",
       "      <td>0.015237</td>\n",
       "      <td>2</td>\n",
       "    </tr>\n",
       "    <tr>\n",
       "      <th>3</th>\n",
       "      <td>2018-09-20</td>\n",
       "      <td>00007d2de826758b65a93dd24ce629ed66842531df6699...</td>\n",
       "      <td>685687003</td>\n",
       "      <td>0.016932</td>\n",
       "      <td>2</td>\n",
       "    </tr>\n",
       "    <tr>\n",
       "      <th>4</th>\n",
       "      <td>2018-09-20</td>\n",
       "      <td>00007d2de826758b65a93dd24ce629ed66842531df6699...</td>\n",
       "      <td>685687004</td>\n",
       "      <td>0.016932</td>\n",
       "      <td>2</td>\n",
       "    </tr>\n",
       "  </tbody>\n",
       "</table>\n",
       "</div>"
      ],
      "text/plain": [
       "        t_dat                                        customer_id  article_id  \\\n",
       "0  2018-09-20  000058a12d5b43e67d225668fa1f8d618c13dc232df0ca...   663713001   \n",
       "1  2018-09-20  000058a12d5b43e67d225668fa1f8d618c13dc232df0ca...   541518023   \n",
       "2  2018-09-20  00007d2de826758b65a93dd24ce629ed66842531df6699...   505221004   \n",
       "3  2018-09-20  00007d2de826758b65a93dd24ce629ed66842531df6699...   685687003   \n",
       "4  2018-09-20  00007d2de826758b65a93dd24ce629ed66842531df6699...   685687004   \n",
       "\n",
       "      price  sales_channel_id  \n",
       "0  0.050831                 2  \n",
       "1  0.030492                 2  \n",
       "2  0.015237                 2  \n",
       "3  0.016932                 2  \n",
       "4  0.016932                 2  "
      ]
     },
     "execution_count": 2,
     "metadata": {},
     "output_type": "execute_result"
    }
   ],
   "source": [
    "# Read in CSV\n",
    "df = pd.read_csv('data/transactions_train.csv')\n",
    "print('Dataframe shape:',df.shape)\n",
    "print('Columns:',list(df.columns))\n",
    "df.head()"
   ]
  },
  {
   "cell_type": "code",
   "execution_count": 3,
   "metadata": {},
   "outputs": [
    {
     "name": "stdout",
     "output_type": "stream",
     "text": [
      "Number of Null Values in t_dat  :  0 / 31788324\n",
      "Number of Null Values in customer_id  :  0 / 31788324\n",
      "Number of Null Values in article_id  :  0 / 31788324\n",
      "Number of Null Values in price  :  0 / 31788324\n",
      "Number of Null Values in sales_channel_id  :  0 / 31788324\n"
     ]
    }
   ],
   "source": [
    "# Basic data check: Check for null values\n",
    "for col in df.columns:\n",
    "    print(\"Number of Null Values in\", col, \" : \", len(df[df[col].isna()]), \"/\", len(df))"
   ]
  },
  {
   "cell_type": "code",
   "execution_count": 4,
   "metadata": {},
   "outputs": [
    {
     "data": {
      "text/plain": [
       "t_dat                object\n",
       "customer_id          object\n",
       "article_id            int64\n",
       "price               float64\n",
       "sales_channel_id      int64\n",
       "dtype: object"
      ]
     },
     "execution_count": 4,
     "metadata": {},
     "output_type": "execute_result"
    }
   ],
   "source": [
    "# Basic data check: Check data types\n",
    "df.dtypes"
   ]
  },
  {
   "cell_type": "code",
   "execution_count": 5,
   "metadata": {},
   "outputs": [
    {
     "data": {
      "text/plain": [
       "t_dat               datetime64[ns]\n",
       "customer_id                 object\n",
       "article_id                  object\n",
       "price                      float64\n",
       "sales_channel_id            object\n",
       "dtype: object"
      ]
     },
     "execution_count": 5,
     "metadata": {},
     "output_type": "execute_result"
    }
   ],
   "source": [
    "# Change data type\n",
    "df = df.astype({'t_dat':'datetime64[ns]',\n",
    "                'customer_id':'str',\n",
    "                'article_id':'str',\n",
    "                'price':'float',\n",
    "                'sales_channel_id':'str'})\n",
    "df.dtypes"
   ]
  },
  {
   "cell_type": "code",
   "execution_count": 6,
   "metadata": {},
   "outputs": [
    {
     "data": {
      "text/html": [
       "<div>\n",
       "<style scoped>\n",
       "    .dataframe tbody tr th:only-of-type {\n",
       "        vertical-align: middle;\n",
       "    }\n",
       "\n",
       "    .dataframe tbody tr th {\n",
       "        vertical-align: top;\n",
       "    }\n",
       "\n",
       "    .dataframe thead th {\n",
       "        text-align: right;\n",
       "    }\n",
       "</style>\n",
       "<table border=\"1\" class=\"dataframe\">\n",
       "  <thead>\n",
       "    <tr style=\"text-align: right;\">\n",
       "      <th></th>\n",
       "      <th>customer_id</th>\n",
       "      <th>t_dat</th>\n",
       "      <th>price</th>\n",
       "      <th>article_id</th>\n",
       "    </tr>\n",
       "  </thead>\n",
       "  <tbody>\n",
       "    <tr>\n",
       "      <th>0</th>\n",
       "      <td>000058a12d5b43e67d225668fa1f8d618c13dc232df0ca...</td>\n",
       "      <td>2018-09-20</td>\n",
       "      <td>0.050831</td>\n",
       "      <td>663713001</td>\n",
       "    </tr>\n",
       "    <tr>\n",
       "      <th>1</th>\n",
       "      <td>000058a12d5b43e67d225668fa1f8d618c13dc232df0ca...</td>\n",
       "      <td>2018-09-20</td>\n",
       "      <td>0.030492</td>\n",
       "      <td>541518023</td>\n",
       "    </tr>\n",
       "    <tr>\n",
       "      <th>2</th>\n",
       "      <td>00007d2de826758b65a93dd24ce629ed66842531df6699...</td>\n",
       "      <td>2018-09-20</td>\n",
       "      <td>0.015237</td>\n",
       "      <td>505221004</td>\n",
       "    </tr>\n",
       "    <tr>\n",
       "      <th>3</th>\n",
       "      <td>00007d2de826758b65a93dd24ce629ed66842531df6699...</td>\n",
       "      <td>2018-09-20</td>\n",
       "      <td>0.016932</td>\n",
       "      <td>685687003</td>\n",
       "    </tr>\n",
       "    <tr>\n",
       "      <th>4</th>\n",
       "      <td>00007d2de826758b65a93dd24ce629ed66842531df6699...</td>\n",
       "      <td>2018-09-20</td>\n",
       "      <td>0.016932</td>\n",
       "      <td>685687004</td>\n",
       "    </tr>\n",
       "  </tbody>\n",
       "</table>\n",
       "</div>"
      ],
      "text/plain": [
       "                                         customer_id      t_dat     price  \\\n",
       "0  000058a12d5b43e67d225668fa1f8d618c13dc232df0ca... 2018-09-20  0.050831   \n",
       "1  000058a12d5b43e67d225668fa1f8d618c13dc232df0ca... 2018-09-20  0.030492   \n",
       "2  00007d2de826758b65a93dd24ce629ed66842531df6699... 2018-09-20  0.015237   \n",
       "3  00007d2de826758b65a93dd24ce629ed66842531df6699... 2018-09-20  0.016932   \n",
       "4  00007d2de826758b65a93dd24ce629ed66842531df6699... 2018-09-20  0.016932   \n",
       "\n",
       "  article_id  \n",
       "0  663713001  \n",
       "1  541518023  \n",
       "2  505221004  \n",
       "3  685687003  \n",
       "4  685687004  "
      ]
     },
     "execution_count": 6,
     "metadata": {},
     "output_type": "execute_result"
    }
   ],
   "source": [
    "# Subset relevant columns and \n",
    "# Change order of dataframe to place customer_id at the front\n",
    "cols = ['customer_id','t_dat','price','article_id']\n",
    "df_new = df[cols]\n",
    "df_new.head()"
   ]
  },
  {
   "cell_type": "markdown",
   "metadata": {},
   "source": [
    "### 2.2 Create dataframe for RFM analysis"
   ]
  },
  {
   "cell_type": "markdown",
   "metadata": {},
   "source": [
    "#### Check number of unique customers"
   ]
  },
  {
   "cell_type": "code",
   "execution_count": 7,
   "metadata": {},
   "outputs": [
    {
     "data": {
      "text/plain": [
       "1362281"
      ]
     },
     "execution_count": 7,
     "metadata": {},
     "output_type": "execute_result"
    }
   ],
   "source": [
    "# Check number of unique customers\n",
    "len(df['customer_id'].unique())"
   ]
  },
  {
   "cell_type": "markdown",
   "metadata": {},
   "source": [
    "#### Recency"
   ]
  },
  {
   "cell_type": "code",
   "execution_count": 8,
   "metadata": {},
   "outputs": [
    {
     "name": "stdout",
     "output_type": "stream",
     "text": [
      "True\n"
     ]
    }
   ],
   "source": [
    "# Subset dataset to get customer_id and t_dat to compute recency\n",
    "df_recency = df_new.loc[:,['customer_id','t_dat']]\n",
    "print(len(df_recency) == len(df)) # check\n",
    "# df_recency.head()"
   ]
  },
  {
   "cell_type": "code",
   "execution_count": 9,
   "metadata": {},
   "outputs": [
    {
     "name": "stdout",
     "output_type": "stream",
     "text": [
      "2020-09-22 00:00:00\n"
     ]
    }
   ],
   "source": [
    "print(df_recency['t_dat'].max())"
   ]
  },
  {
   "cell_type": "code",
   "execution_count": 10,
   "metadata": {},
   "outputs": [
    {
     "name": "stdout",
     "output_type": "stream",
     "text": [
      "True\n"
     ]
    }
   ],
   "source": [
    "# Get last date of purchase\n",
    "df_recency = pd.DataFrame(df_recency.groupby('customer_id')['t_dat'].max()).reset_index()\n",
    "print(len(df_recency) == len(df_new['customer_id'].unique()))\n",
    "# df_recency.head()"
   ]
  },
  {
   "cell_type": "code",
   "execution_count": 11,
   "metadata": {},
   "outputs": [
    {
     "data": {
      "text/html": [
       "<div>\n",
       "<style scoped>\n",
       "    .dataframe tbody tr th:only-of-type {\n",
       "        vertical-align: middle;\n",
       "    }\n",
       "\n",
       "    .dataframe tbody tr th {\n",
       "        vertical-align: top;\n",
       "    }\n",
       "\n",
       "    .dataframe thead th {\n",
       "        text-align: right;\n",
       "    }\n",
       "</style>\n",
       "<table border=\"1\" class=\"dataframe\">\n",
       "  <thead>\n",
       "    <tr style=\"text-align: right;\">\n",
       "      <th></th>\n",
       "      <th>customer_id</th>\n",
       "      <th>t_dat</th>\n",
       "      <th>Recency</th>\n",
       "    </tr>\n",
       "  </thead>\n",
       "  <tbody>\n",
       "    <tr>\n",
       "      <th>0</th>\n",
       "      <td>00000dbacae5abe5e23885899a1fa44253a17956c6d1c3...</td>\n",
       "      <td>2020-09-05</td>\n",
       "      <td>26</td>\n",
       "    </tr>\n",
       "    <tr>\n",
       "      <th>1</th>\n",
       "      <td>0000423b00ade91418cceaf3b26c6af3dd342b51fd051e...</td>\n",
       "      <td>2020-07-08</td>\n",
       "      <td>85</td>\n",
       "    </tr>\n",
       "    <tr>\n",
       "      <th>2</th>\n",
       "      <td>000058a12d5b43e67d225668fa1f8d618c13dc232df0ca...</td>\n",
       "      <td>2020-09-15</td>\n",
       "      <td>16</td>\n",
       "    </tr>\n",
       "    <tr>\n",
       "      <th>3</th>\n",
       "      <td>00005ca1c9ed5f5146b52ac8639a40ca9d57aeff4d1bd2...</td>\n",
       "      <td>2019-06-09</td>\n",
       "      <td>480</td>\n",
       "    </tr>\n",
       "    <tr>\n",
       "      <th>4</th>\n",
       "      <td>00006413d8573cd20ed7128e53b7b13819fe5cfc2d801f...</td>\n",
       "      <td>2020-08-12</td>\n",
       "      <td>50</td>\n",
       "    </tr>\n",
       "  </tbody>\n",
       "</table>\n",
       "</div>"
      ],
      "text/plain": [
       "                                         customer_id      t_dat  Recency\n",
       "0  00000dbacae5abe5e23885899a1fa44253a17956c6d1c3... 2020-09-05       26\n",
       "1  0000423b00ade91418cceaf3b26c6af3dd342b51fd051e... 2020-07-08       85\n",
       "2  000058a12d5b43e67d225668fa1f8d618c13dc232df0ca... 2020-09-15       16\n",
       "3  00005ca1c9ed5f5146b52ac8639a40ca9d57aeff4d1bd2... 2019-06-09      480\n",
       "4  00006413d8573cd20ed7128e53b7b13819fe5cfc2d801f... 2020-08-12       50"
      ]
     },
     "execution_count": 11,
     "metadata": {},
     "output_type": "execute_result"
    }
   ],
   "source": [
    "# Calculate recency based on 2020-10-01\n",
    "date = dt.datetime(2020, 10, 1)\n",
    "df_recency['Recency'] = df_recency.t_dat.apply(lambda x:(date - x).days)\n",
    "df_recency.head()"
   ]
  },
  {
   "cell_type": "markdown",
   "metadata": {},
   "source": [
    "#### Frequency"
   ]
  },
  {
   "cell_type": "code",
   "execution_count": 12,
   "metadata": {},
   "outputs": [
    {
     "name": "stdout",
     "output_type": "stream",
     "text": [
      "True\n"
     ]
    }
   ],
   "source": [
    "# Subset dataset to get customer_id and t_dat to compute frequency\n",
    "df_frequency = df_new.loc[:,['customer_id','t_dat']]\n",
    "print(len(df_frequency) == len(df)) # check\n",
    "# df_frequency.head()"
   ]
  },
  {
   "cell_type": "code",
   "execution_count": 13,
   "metadata": {},
   "outputs": [
    {
     "name": "stdout",
     "output_type": "stream",
     "text": [
      "True\n"
     ]
    },
    {
     "data": {
      "text/html": [
       "<div>\n",
       "<style scoped>\n",
       "    .dataframe tbody tr th:only-of-type {\n",
       "        vertical-align: middle;\n",
       "    }\n",
       "\n",
       "    .dataframe tbody tr th {\n",
       "        vertical-align: top;\n",
       "    }\n",
       "\n",
       "    .dataframe thead th {\n",
       "        text-align: right;\n",
       "    }\n",
       "</style>\n",
       "<table border=\"1\" class=\"dataframe\">\n",
       "  <thead>\n",
       "    <tr style=\"text-align: right;\">\n",
       "      <th></th>\n",
       "      <th>customer_id</th>\n",
       "      <th>Frequency</th>\n",
       "    </tr>\n",
       "  </thead>\n",
       "  <tbody>\n",
       "    <tr>\n",
       "      <th>0</th>\n",
       "      <td>00000dbacae5abe5e23885899a1fa44253a17956c6d1c3...</td>\n",
       "      <td>21</td>\n",
       "    </tr>\n",
       "    <tr>\n",
       "      <th>1</th>\n",
       "      <td>0000423b00ade91418cceaf3b26c6af3dd342b51fd051e...</td>\n",
       "      <td>86</td>\n",
       "    </tr>\n",
       "    <tr>\n",
       "      <th>2</th>\n",
       "      <td>000058a12d5b43e67d225668fa1f8d618c13dc232df0ca...</td>\n",
       "      <td>18</td>\n",
       "    </tr>\n",
       "    <tr>\n",
       "      <th>3</th>\n",
       "      <td>00005ca1c9ed5f5146b52ac8639a40ca9d57aeff4d1bd2...</td>\n",
       "      <td>2</td>\n",
       "    </tr>\n",
       "    <tr>\n",
       "      <th>4</th>\n",
       "      <td>00006413d8573cd20ed7128e53b7b13819fe5cfc2d801f...</td>\n",
       "      <td>13</td>\n",
       "    </tr>\n",
       "  </tbody>\n",
       "</table>\n",
       "</div>"
      ],
      "text/plain": [
       "                                         customer_id  Frequency\n",
       "0  00000dbacae5abe5e23885899a1fa44253a17956c6d1c3...         21\n",
       "1  0000423b00ade91418cceaf3b26c6af3dd342b51fd051e...         86\n",
       "2  000058a12d5b43e67d225668fa1f8d618c13dc232df0ca...         18\n",
       "3  00005ca1c9ed5f5146b52ac8639a40ca9d57aeff4d1bd2...          2\n",
       "4  00006413d8573cd20ed7128e53b7b13819fe5cfc2d801f...         13"
      ]
     },
     "execution_count": 13,
     "metadata": {},
     "output_type": "execute_result"
    }
   ],
   "source": [
    "# Calculate frequency based on total number of purchases\n",
    "df_frequency = pd.DataFrame(df_frequency.groupby('customer_id')['t_dat'].count()).reset_index()\n",
    "print(len(df_frequency) == len(df_new['customer_id'].unique()))\n",
    "df_frequency.columns = ['customer_id', 'Frequency']\n",
    "df_frequency.head()"
   ]
  },
  {
   "cell_type": "markdown",
   "metadata": {},
   "source": [
    "#### Monetary"
   ]
  },
  {
   "cell_type": "code",
   "execution_count": 14,
   "metadata": {},
   "outputs": [
    {
     "name": "stdout",
     "output_type": "stream",
     "text": [
      "True\n"
     ]
    }
   ],
   "source": [
    "# Subset dataset to get customer_id and price to compute monetary\n",
    "df_monetary = df_new.loc[:,['customer_id','price']]\n",
    "print(len(df_monetary) == len(df)) # check\n",
    "# df_monetary.head()"
   ]
  },
  {
   "cell_type": "code",
   "execution_count": 15,
   "metadata": {},
   "outputs": [
    {
     "name": "stdout",
     "output_type": "stream",
     "text": [
      "True\n"
     ]
    },
    {
     "data": {
      "text/html": [
       "<div>\n",
       "<style scoped>\n",
       "    .dataframe tbody tr th:only-of-type {\n",
       "        vertical-align: middle;\n",
       "    }\n",
       "\n",
       "    .dataframe tbody tr th {\n",
       "        vertical-align: top;\n",
       "    }\n",
       "\n",
       "    .dataframe thead th {\n",
       "        text-align: right;\n",
       "    }\n",
       "</style>\n",
       "<table border=\"1\" class=\"dataframe\">\n",
       "  <thead>\n",
       "    <tr style=\"text-align: right;\">\n",
       "      <th></th>\n",
       "      <th>customer_id</th>\n",
       "      <th>Monetary</th>\n",
       "    </tr>\n",
       "  </thead>\n",
       "  <tbody>\n",
       "    <tr>\n",
       "      <th>0</th>\n",
       "      <td>00000dbacae5abe5e23885899a1fa44253a17956c6d1c3...</td>\n",
       "      <td>0.030904</td>\n",
       "    </tr>\n",
       "    <tr>\n",
       "      <th>1</th>\n",
       "      <td>0000423b00ade91418cceaf3b26c6af3dd342b51fd051e...</td>\n",
       "      <td>0.030255</td>\n",
       "    </tr>\n",
       "    <tr>\n",
       "      <th>2</th>\n",
       "      <td>000058a12d5b43e67d225668fa1f8d618c13dc232df0ca...</td>\n",
       "      <td>0.039154</td>\n",
       "    </tr>\n",
       "    <tr>\n",
       "      <th>3</th>\n",
       "      <td>00005ca1c9ed5f5146b52ac8639a40ca9d57aeff4d1bd2...</td>\n",
       "      <td>0.030492</td>\n",
       "    </tr>\n",
       "    <tr>\n",
       "      <th>4</th>\n",
       "      <td>00006413d8573cd20ed7128e53b7b13819fe5cfc2d801f...</td>\n",
       "      <td>0.036130</td>\n",
       "    </tr>\n",
       "  </tbody>\n",
       "</table>\n",
       "</div>"
      ],
      "text/plain": [
       "                                         customer_id  Monetary\n",
       "0  00000dbacae5abe5e23885899a1fa44253a17956c6d1c3...  0.030904\n",
       "1  0000423b00ade91418cceaf3b26c6af3dd342b51fd051e...  0.030255\n",
       "2  000058a12d5b43e67d225668fa1f8d618c13dc232df0ca...  0.039154\n",
       "3  00005ca1c9ed5f5146b52ac8639a40ca9d57aeff4d1bd2...  0.030492\n",
       "4  00006413d8573cd20ed7128e53b7b13819fe5cfc2d801f...  0.036130"
      ]
     },
     "execution_count": 15,
     "metadata": {},
     "output_type": "execute_result"
    }
   ],
   "source": [
    "# Calculate monetary based on average amount spent per transaction\n",
    "df_monetary = pd.DataFrame(df_monetary.groupby('customer_id')['price'].mean()).reset_index()\n",
    "print(len(df_monetary) == len(df_new['customer_id'].unique()))\n",
    "df_monetary.columns = ['customer_id', 'Monetary']\n",
    "df_monetary.head()"
   ]
  },
  {
   "cell_type": "markdown",
   "metadata": {},
   "source": [
    "## 3 RFM analysis\n",
    "https://github.com/klaudia-nazarko/rfm-analysis-python/blob/master/rfm_analysis_python.ipynb"
   ]
  },
  {
   "cell_type": "markdown",
   "metadata": {},
   "source": [
    "### 3.1 Combine RFM into a single dataframe\n",
    "- `Recency`: Number of days from latest transaction date to 2020-10-1 (because the latest t_dat in dataset is 2020-9-22 so chose 2020-10-1 as a reasonable benchmark)\n",
    "- `Frequency`: Number of transactions per customer_id\n",
    "- `Money`: Average spending per transaction"
   ]
  },
  {
   "cell_type": "code",
   "execution_count": 16,
   "metadata": {
    "scrolled": true
   },
   "outputs": [
    {
     "name": "stdout",
     "output_type": "stream",
     "text": [
      "Dataframe shape: (1362281, 4)\n"
     ]
    },
    {
     "data": {
      "text/html": [
       "<div>\n",
       "<style scoped>\n",
       "    .dataframe tbody tr th:only-of-type {\n",
       "        vertical-align: middle;\n",
       "    }\n",
       "\n",
       "    .dataframe tbody tr th {\n",
       "        vertical-align: top;\n",
       "    }\n",
       "\n",
       "    .dataframe thead th {\n",
       "        text-align: right;\n",
       "    }\n",
       "</style>\n",
       "<table border=\"1\" class=\"dataframe\">\n",
       "  <thead>\n",
       "    <tr style=\"text-align: right;\">\n",
       "      <th></th>\n",
       "      <th>customer_id</th>\n",
       "      <th>Recency</th>\n",
       "      <th>Frequency</th>\n",
       "      <th>Monetary</th>\n",
       "    </tr>\n",
       "  </thead>\n",
       "  <tbody>\n",
       "    <tr>\n",
       "      <th>0</th>\n",
       "      <td>00000dbacae5abe5e23885899a1fa44253a17956c6d1c3...</td>\n",
       "      <td>26</td>\n",
       "      <td>21</td>\n",
       "      <td>0.030904</td>\n",
       "    </tr>\n",
       "    <tr>\n",
       "      <th>1</th>\n",
       "      <td>0000423b00ade91418cceaf3b26c6af3dd342b51fd051e...</td>\n",
       "      <td>85</td>\n",
       "      <td>86</td>\n",
       "      <td>0.030255</td>\n",
       "    </tr>\n",
       "    <tr>\n",
       "      <th>2</th>\n",
       "      <td>000058a12d5b43e67d225668fa1f8d618c13dc232df0ca...</td>\n",
       "      <td>16</td>\n",
       "      <td>18</td>\n",
       "      <td>0.039154</td>\n",
       "    </tr>\n",
       "    <tr>\n",
       "      <th>3</th>\n",
       "      <td>00005ca1c9ed5f5146b52ac8639a40ca9d57aeff4d1bd2...</td>\n",
       "      <td>480</td>\n",
       "      <td>2</td>\n",
       "      <td>0.030492</td>\n",
       "    </tr>\n",
       "    <tr>\n",
       "      <th>4</th>\n",
       "      <td>00006413d8573cd20ed7128e53b7b13819fe5cfc2d801f...</td>\n",
       "      <td>50</td>\n",
       "      <td>13</td>\n",
       "      <td>0.036130</td>\n",
       "    </tr>\n",
       "  </tbody>\n",
       "</table>\n",
       "</div>"
      ],
      "text/plain": [
       "                                         customer_id  Recency  Frequency  \\\n",
       "0  00000dbacae5abe5e23885899a1fa44253a17956c6d1c3...       26         21   \n",
       "1  0000423b00ade91418cceaf3b26c6af3dd342b51fd051e...       85         86   \n",
       "2  000058a12d5b43e67d225668fa1f8d618c13dc232df0ca...       16         18   \n",
       "3  00005ca1c9ed5f5146b52ac8639a40ca9d57aeff4d1bd2...      480          2   \n",
       "4  00006413d8573cd20ed7128e53b7b13819fe5cfc2d801f...       50         13   \n",
       "\n",
       "   Monetary  \n",
       "0  0.030904  \n",
       "1  0.030255  \n",
       "2  0.039154  \n",
       "3  0.030492  \n",
       "4  0.036130  "
      ]
     },
     "execution_count": 16,
     "metadata": {},
     "output_type": "execute_result"
    }
   ],
   "source": [
    "df_rfm = pd.merge(df_recency, df_frequency, on='customer_id')\n",
    "df_rfm = pd.merge(df_rfm, df_monetary, on='customer_id')\n",
    "df_rfm = df_rfm.drop(['t_dat'], axis=1)\n",
    "print('Dataframe shape:',df_rfm.shape)\n",
    "df_rfm.head()"
   ]
  },
  {
   "cell_type": "markdown",
   "metadata": {},
   "source": [
    "### 3.2 Conduct RFM Analysis by grouping customers into segments\n",
    "- Recency: (shortened interval because shopping for clothes is a necessity)\n",
    "    - Active: Purchase within past 6 months\n",
    "    - Warm: Purchase within past 12 months / 1 month\n",
    "    - Cold: Purchase within past 2 years\n",
    "    - Lost: Purchase beyond past 2 years\n",
    "- Frequency:\n",
    "    - Occasional: Bottom 30% quantile\n",
    "    - Average: Middle 30% quantile\n",
    "    - Frequent: Top 30% quantile\n",
    "- Monetary:\n",
    "    - Top 20%: Valuable\n",
    "    - Bottom 80%: Less valuable"
   ]
  },
  {
   "cell_type": "code",
   "execution_count": 17,
   "metadata": {},
   "outputs": [],
   "source": [
    "# assign recency label\n",
    "bins = [0,6*30,12*30,24*30,1000]\n",
    "\n",
    "r_labels = ['Active','Warm','Cold','Lost']\n",
    "df_rfm['r_label'] = pd.cut(df_rfm['Recency'], bins=bins, labels=r_labels, right=False)\n",
    "\n",
    "# r_scores = [4,3,2,1]\n",
    "# df_rfm['r_score'] = pd.cut(df_rfm['Recency'], bins=bins, labels=r_scores, right=False).astype(int)"
   ]
  },
  {
   "cell_type": "code",
   "execution_count": 18,
   "metadata": {},
   "outputs": [],
   "source": [
    "# assign frequency label\n",
    "f_labels = ['Occasional','Average','Frequent']\n",
    "df_rfm['f_label'] = pd.qcut(df_rfm['Frequency'], q=3, labels=f_labels)\n",
    "\n",
    "# f_scores = [1,2,3]\n",
    "# df_rfm['f_score'] = pd.qcut(df_rfm['Frequency'], q=3, labels=f_scores).astype(int)"
   ]
  },
  {
   "cell_type": "code",
   "execution_count": 19,
   "metadata": {},
   "outputs": [],
   "source": [
    "# assign monetary label\n",
    "bins = [0, np.percentile(df_rfm.Monetary,20), 1]\n",
    "\n",
    "m_labels = ['Bottom 80%','Top 20%']\n",
    "df_rfm['m_label'] = pd.cut(df_rfm['Monetary'], bins=bins, labels=m_labels, right=False)\n",
    "\n",
    "# m_scores = [2,1]\n",
    "# df_rfm['m_score'] = pd.cut(df_rfm['Monetary'], bins=bins, labels=m_scores, right=False).astype(int)"
   ]
  },
  {
   "cell_type": "code",
   "execution_count": 20,
   "metadata": {},
   "outputs": [
    {
     "data": {
      "text/html": [
       "<div>\n",
       "<style scoped>\n",
       "    .dataframe tbody tr th:only-of-type {\n",
       "        vertical-align: middle;\n",
       "    }\n",
       "\n",
       "    .dataframe tbody tr th {\n",
       "        vertical-align: top;\n",
       "    }\n",
       "\n",
       "    .dataframe thead th {\n",
       "        text-align: right;\n",
       "    }\n",
       "</style>\n",
       "<table border=\"1\" class=\"dataframe\">\n",
       "  <thead>\n",
       "    <tr style=\"text-align: right;\">\n",
       "      <th></th>\n",
       "      <th>customer_id</th>\n",
       "      <th>Recency</th>\n",
       "      <th>Frequency</th>\n",
       "      <th>Monetary</th>\n",
       "      <th>r_label</th>\n",
       "      <th>f_label</th>\n",
       "      <th>m_label</th>\n",
       "    </tr>\n",
       "  </thead>\n",
       "  <tbody>\n",
       "    <tr>\n",
       "      <th>0</th>\n",
       "      <td>00000dbacae5abe5e23885899a1fa44253a17956c6d1c3...</td>\n",
       "      <td>26</td>\n",
       "      <td>21</td>\n",
       "      <td>0.030904</td>\n",
       "      <td>Active</td>\n",
       "      <td>Frequent</td>\n",
       "      <td>Top 20%</td>\n",
       "    </tr>\n",
       "    <tr>\n",
       "      <th>1</th>\n",
       "      <td>0000423b00ade91418cceaf3b26c6af3dd342b51fd051e...</td>\n",
       "      <td>85</td>\n",
       "      <td>86</td>\n",
       "      <td>0.030255</td>\n",
       "      <td>Active</td>\n",
       "      <td>Frequent</td>\n",
       "      <td>Top 20%</td>\n",
       "    </tr>\n",
       "    <tr>\n",
       "      <th>2</th>\n",
       "      <td>000058a12d5b43e67d225668fa1f8d618c13dc232df0ca...</td>\n",
       "      <td>16</td>\n",
       "      <td>18</td>\n",
       "      <td>0.039154</td>\n",
       "      <td>Active</td>\n",
       "      <td>Average</td>\n",
       "      <td>Top 20%</td>\n",
       "    </tr>\n",
       "    <tr>\n",
       "      <th>3</th>\n",
       "      <td>00005ca1c9ed5f5146b52ac8639a40ca9d57aeff4d1bd2...</td>\n",
       "      <td>480</td>\n",
       "      <td>2</td>\n",
       "      <td>0.030492</td>\n",
       "      <td>Cold</td>\n",
       "      <td>Occasional</td>\n",
       "      <td>Top 20%</td>\n",
       "    </tr>\n",
       "    <tr>\n",
       "      <th>4</th>\n",
       "      <td>00006413d8573cd20ed7128e53b7b13819fe5cfc2d801f...</td>\n",
       "      <td>50</td>\n",
       "      <td>13</td>\n",
       "      <td>0.036130</td>\n",
       "      <td>Active</td>\n",
       "      <td>Average</td>\n",
       "      <td>Top 20%</td>\n",
       "    </tr>\n",
       "  </tbody>\n",
       "</table>\n",
       "</div>"
      ],
      "text/plain": [
       "                                         customer_id  Recency  Frequency  \\\n",
       "0  00000dbacae5abe5e23885899a1fa44253a17956c6d1c3...       26         21   \n",
       "1  0000423b00ade91418cceaf3b26c6af3dd342b51fd051e...       85         86   \n",
       "2  000058a12d5b43e67d225668fa1f8d618c13dc232df0ca...       16         18   \n",
       "3  00005ca1c9ed5f5146b52ac8639a40ca9d57aeff4d1bd2...      480          2   \n",
       "4  00006413d8573cd20ed7128e53b7b13819fe5cfc2d801f...       50         13   \n",
       "\n",
       "   Monetary r_label     f_label  m_label  \n",
       "0  0.030904  Active    Frequent  Top 20%  \n",
       "1  0.030255  Active    Frequent  Top 20%  \n",
       "2  0.039154  Active     Average  Top 20%  \n",
       "3  0.030492    Cold  Occasional  Top 20%  \n",
       "4  0.036130  Active     Average  Top 20%  "
      ]
     },
     "execution_count": 20,
     "metadata": {},
     "output_type": "execute_result"
    }
   ],
   "source": [
    "# Add a column to sum rfm scores\n",
    "# df_rfm['rfm_sum'] = df_rfm['r_score'] + df_rfm['f_score'] + df_rfm['m_score']\n",
    "df_rfm.head()"
   ]
  },
  {
   "cell_type": "markdown",
   "metadata": {},
   "source": [
    "#### RFM Customer Segments\n",
    "- Champions: Highest recency, frequency and monetary\n",
    "- Loyal: High recency and monetary\n",
    "- Valuable: High monetary\n",
    "- New active: High recency and frequency but monetary may not be high\n",
    "- New: High recency and low frequency or High recency and low monetary\n",
    "- Average: Does not show any specific traits especially\n",
    "- Potential re-activation: Able to spend\n",
    "- Needs attention: Low recency, but able to spend\n",
    "- At risk: Low recency and monetary but frequency not lowest\n",
    "\n",
    "- Lost: Lowest recency, frequency and monetary"
   ]
  },
  {
   "cell_type": "code",
   "execution_count": 21,
   "metadata": {},
   "outputs": [],
   "source": [
    "def assign_label(df, r_label, f_label, m_label, label, colname='rfm_label'):\n",
    "    df.loc[(df['r_label']==r_label) & (df['f_label']==f_label)\n",
    "              & (df['m_label']==m_label), colname] = label\n",
    "    return df\n",
    "\n",
    "# def assign_label(df, r_rule, f_rule, m_rule, label, colname='rfm_label'):\n",
    "#     df.loc[(df['r_score'].between(r_rule[0], r_rule[1]))\n",
    "#             & (df['f_score'].between(f_rule[0], f_rule[1]))\n",
    "#             & (df['m_score'].between(m_rule[0], m_rule[1])), colname] = label\n",
    "#     return df"
   ]
  },
  {
   "cell_type": "code",
   "execution_count": 22,
   "metadata": {},
   "outputs": [],
   "source": [
    "df_rfm['rfm_label'] = ''\n",
    "\n",
    "df_rfm = assign_label(df_rfm, 'Active', 'Frequent', 'Top 20%', 'Champions')\n",
    "df_rfm = assign_label(df_rfm, 'Active', 'Average', 'Top 20%', 'Loyal')\n",
    "df_rfm = assign_label(df_rfm, 'Active', 'Occasional', 'Top 20%', 'Valuable')\n",
    "df_rfm = assign_label(df_rfm, 'Active', 'Frequent', 'Bottom 80%', 'New active')\n",
    "df_rfm = assign_label(df_rfm, 'Active', 'Average', 'Bottom 80%', 'New')\n",
    "df_rfm = assign_label(df_rfm, 'Active', 'Occasional', 'Bottom 80%', 'New')\n",
    "\n",
    "df_rfm = assign_label(df_rfm, 'Warm', 'Frequent', 'Top 20%', 'Loyal')\n",
    "df_rfm = assign_label(df_rfm, 'Warm', 'Average', 'Top 20%', 'Valuable')\n",
    "df_rfm = assign_label(df_rfm, 'Warm', 'Occasional', 'Top 20%', 'Valuable')\n",
    "df_rfm = assign_label(df_rfm, 'Warm', 'Frequent', 'Bottom 80%', 'Average')\n",
    "df_rfm = assign_label(df_rfm, 'Warm', 'Average', 'Bottom 80%', 'Average')\n",
    "df_rfm = assign_label(df_rfm, 'Warm', 'Occasional', 'Bottom 80%', 'Average')\n",
    "\n",
    "df_rfm = assign_label(df_rfm, 'Cold', 'Frequent', 'Top 20%', 'Potential re-activation')\n",
    "df_rfm = assign_label(df_rfm, 'Cold', 'Average', 'Top 20%', 'Potential re-activation')\n",
    "df_rfm = assign_label(df_rfm, 'Cold', 'Occasional', 'Top 20%', 'Needs attention')\n",
    "df_rfm = assign_label(df_rfm, 'Cold', 'Frequent', 'Bottom 80%', 'Needs attention')\n",
    "df_rfm = assign_label(df_rfm, 'Cold', 'Average', 'Bottom 80%', 'At risk')\n",
    "df_rfm = assign_label(df_rfm, 'Cold', 'Occasional', 'Bottom 80%', 'At risk')\n",
    "\n",
    "df_rfm = assign_label(df_rfm, 'Lost', 'Frequent', 'Top 20%', 'Lost')\n",
    "df_rfm = assign_label(df_rfm, 'Lost', 'Average', 'Top 20%', 'Lost')\n",
    "df_rfm = assign_label(df_rfm, 'Lost', 'Occasional', 'Top 20%', 'Lost')\n",
    "df_rfm = assign_label(df_rfm, 'Lost', 'Frequent', 'Bottom 80%', 'Lost')\n",
    "df_rfm = assign_label(df_rfm, 'Lost', 'Average', 'Bottom 80%', 'Lost')\n",
    "df_rfm = assign_label(df_rfm, 'Lost', 'Occasional', 'Bottom 80%', 'Lost')"
   ]
  },
  {
   "cell_type": "code",
   "execution_count": 23,
   "metadata": {
    "scrolled": true
   },
   "outputs": [
    {
     "name": "stdout",
     "output_type": "stream",
     "text": [
      "Dataframe shape: (1362281, 8)\n"
     ]
    },
    {
     "data": {
      "text/html": [
       "<div>\n",
       "<style scoped>\n",
       "    .dataframe tbody tr th:only-of-type {\n",
       "        vertical-align: middle;\n",
       "    }\n",
       "\n",
       "    .dataframe tbody tr th {\n",
       "        vertical-align: top;\n",
       "    }\n",
       "\n",
       "    .dataframe thead th {\n",
       "        text-align: right;\n",
       "    }\n",
       "</style>\n",
       "<table border=\"1\" class=\"dataframe\">\n",
       "  <thead>\n",
       "    <tr style=\"text-align: right;\">\n",
       "      <th></th>\n",
       "      <th>customer_id</th>\n",
       "      <th>Recency</th>\n",
       "      <th>Frequency</th>\n",
       "      <th>Monetary</th>\n",
       "      <th>r_label</th>\n",
       "      <th>f_label</th>\n",
       "      <th>m_label</th>\n",
       "      <th>rfm_label</th>\n",
       "    </tr>\n",
       "  </thead>\n",
       "  <tbody>\n",
       "    <tr>\n",
       "      <th>0</th>\n",
       "      <td>00000dbacae5abe5e23885899a1fa44253a17956c6d1c3...</td>\n",
       "      <td>26</td>\n",
       "      <td>21</td>\n",
       "      <td>0.030904</td>\n",
       "      <td>Active</td>\n",
       "      <td>Frequent</td>\n",
       "      <td>Top 20%</td>\n",
       "      <td>Champions</td>\n",
       "    </tr>\n",
       "    <tr>\n",
       "      <th>1</th>\n",
       "      <td>0000423b00ade91418cceaf3b26c6af3dd342b51fd051e...</td>\n",
       "      <td>85</td>\n",
       "      <td>86</td>\n",
       "      <td>0.030255</td>\n",
       "      <td>Active</td>\n",
       "      <td>Frequent</td>\n",
       "      <td>Top 20%</td>\n",
       "      <td>Champions</td>\n",
       "    </tr>\n",
       "    <tr>\n",
       "      <th>2</th>\n",
       "      <td>000058a12d5b43e67d225668fa1f8d618c13dc232df0ca...</td>\n",
       "      <td>16</td>\n",
       "      <td>18</td>\n",
       "      <td>0.039154</td>\n",
       "      <td>Active</td>\n",
       "      <td>Average</td>\n",
       "      <td>Top 20%</td>\n",
       "      <td>Loyal</td>\n",
       "    </tr>\n",
       "    <tr>\n",
       "      <th>3</th>\n",
       "      <td>00005ca1c9ed5f5146b52ac8639a40ca9d57aeff4d1bd2...</td>\n",
       "      <td>480</td>\n",
       "      <td>2</td>\n",
       "      <td>0.030492</td>\n",
       "      <td>Cold</td>\n",
       "      <td>Occasional</td>\n",
       "      <td>Top 20%</td>\n",
       "      <td>Needs attention</td>\n",
       "    </tr>\n",
       "    <tr>\n",
       "      <th>4</th>\n",
       "      <td>00006413d8573cd20ed7128e53b7b13819fe5cfc2d801f...</td>\n",
       "      <td>50</td>\n",
       "      <td>13</td>\n",
       "      <td>0.036130</td>\n",
       "      <td>Active</td>\n",
       "      <td>Average</td>\n",
       "      <td>Top 20%</td>\n",
       "      <td>Loyal</td>\n",
       "    </tr>\n",
       "  </tbody>\n",
       "</table>\n",
       "</div>"
      ],
      "text/plain": [
       "                                         customer_id  Recency  Frequency  \\\n",
       "0  00000dbacae5abe5e23885899a1fa44253a17956c6d1c3...       26         21   \n",
       "1  0000423b00ade91418cceaf3b26c6af3dd342b51fd051e...       85         86   \n",
       "2  000058a12d5b43e67d225668fa1f8d618c13dc232df0ca...       16         18   \n",
       "3  00005ca1c9ed5f5146b52ac8639a40ca9d57aeff4d1bd2...      480          2   \n",
       "4  00006413d8573cd20ed7128e53b7b13819fe5cfc2d801f...       50         13   \n",
       "\n",
       "   Monetary r_label     f_label  m_label        rfm_label  \n",
       "0  0.030904  Active    Frequent  Top 20%        Champions  \n",
       "1  0.030255  Active    Frequent  Top 20%        Champions  \n",
       "2  0.039154  Active     Average  Top 20%            Loyal  \n",
       "3  0.030492    Cold  Occasional  Top 20%  Needs attention  \n",
       "4  0.036130  Active     Average  Top 20%            Loyal  "
      ]
     },
     "execution_count": 23,
     "metadata": {},
     "output_type": "execute_result"
    }
   ],
   "source": [
    "print('Dataframe shape:',df_rfm.shape)\n",
    "df_rfm.head()"
   ]
  },
  {
   "cell_type": "markdown",
   "metadata": {},
   "source": [
    "## 3.3 RFM Segment Analysis"
   ]
  },
  {
   "cell_type": "markdown",
   "metadata": {},
   "source": [
    "### 3.3.1 General Analysis on RFM Segments"
   ]
  },
  {
   "cell_type": "code",
   "execution_count": 24,
   "metadata": {},
   "outputs": [
    {
     "data": {
      "image/png": "[encoded data removed]",
      "text/plain": [
       "<Figure size 864x360 with 1 Axes>"
      ]
     },
     "metadata": {
      "needs_background": "light"
     },
     "output_type": "display_data"
    }
   ],
   "source": [
    "palette = sns.color_palette(\"Blues_r\", n_colors=13)\n",
    "\n",
    "for rfm_type in ['label']:\n",
    "    fig, ax = plt.subplots(figsize=(12,5))\n",
    "    sns.countplot(x='rfm_'+rfm_type, data=df_rfm, palette=palette)\n",
    "    ax.set_title('Number of customers in each RFM cluster (%s)' % rfm_type)\n",
    "    if rfm_type == 'label':\n",
    "        plt.xticks(rotation=90)\n",
    "    plt.show()"
   ]
  },
  {
   "cell_type": "code",
   "execution_count": 25,
   "metadata": {},
   "outputs": [
    {
     "data": {
      "image/png": "[encoded data removed]",
      "text/plain": [
       "<Figure size 1152x432 with 1 Axes>"
      ]
     },
     "metadata": {
      "needs_background": "light"
     },
     "output_type": "display_data"
    },
    {
     "data": {
      "image/png": "[encoded data removed]",
      "text/plain": [
       "<Figure size 1152x432 with 1 Axes>"
      ]
     },
     "metadata": {
      "needs_background": "light"
     },
     "output_type": "display_data"
    }
   ],
   "source": [
    "import squarify\n",
    "agg_dict2 = {\n",
    "    'customer_id': 'count',\n",
    "    'Recency': 'mean',\n",
    "    'Frequency': 'mean',\n",
    "    'Monetary': 'sum'\n",
    "}\n",
    "\n",
    "df_analysis = df_rfm.groupby('rfm_label').agg(agg_dict2).sort_values(by='Recency').reset_index()\n",
    "df_analysis.rename({'rfm_label': 'label', 'customer_id': 'count'}, axis=1, inplace=True)\n",
    "df_analysis['count_share'] = df_analysis['count'] / df_analysis['count'].sum()\n",
    "df_analysis['Monetary_share'] = df_analysis['Monetary'] / df_analysis['Monetary'].sum()\n",
    "df_analysis['Monetary'] = df_analysis['Monetary'] / df_analysis['count']\n",
    "\n",
    "colors = ['#37BEB0', '#DBF5F0', '#41729F', '#C3E0E5', '#0C6170', '#5885AF', '#E1C340', '#274472', '#F8EA8C', '#A4E5E0', '#1848A0']\n",
    "\n",
    "for col in ['count', 'Monetary']:\n",
    "    labels = df_analysis['label'] + df_analysis[col + '_share'].apply(lambda x: ' ({0:.1f}%)'.format(x*100))\n",
    "\n",
    "    fig, ax = plt.subplots(figsize=(16,6))\n",
    "    squarify.plot(sizes=df_analysis[col], label=labels, alpha=.8, color=colors)\n",
    "    ax.set_title('RFM Segments of Customers (%s)' % col)\n",
    "    plt.axis('off')\n",
    "    plt.show()"
   ]
  },
  {
   "cell_type": "code",
   "execution_count": 26,
   "metadata": {},
   "outputs": [
    {
     "data": {
      "image/png": "[encoded data removed]",
      "text/plain": [
       "<Figure size 864x432 with 1 Axes>"
      ]
     },
     "metadata": {
      "needs_background": "light"
     },
     "output_type": "display_data"
    }
   ],
   "source": [
    "palette = sns.color_palette(\"coolwarm\", 10)\n",
    "\n",
    "fig, ax = plt.subplots(figsize=(12,6))\n",
    "plot = sns.scatterplot(x='Recency', y='Frequency', data=df_analysis, hue='label', s=300, palette=palette)\n",
    "\n",
    "for i in range(len(df_analysis)):\n",
    "     plot.text(df_analysis['Recency'][i]+5,\n",
    "               df_analysis['Frequency'][i]-0.5,\n",
    "               df_analysis['label'][i],\n",
    "               horizontalalignment='left',\n",
    "               size='medium', color='black')\n",
    "\n",
    "ax.set_title('Recency vs frequency of segments')\n",
    "ax.get_legend().remove()\n",
    "plt.show()"
   ]
  },
  {
   "cell_type": "markdown",
   "metadata": {},
   "source": [
    "### 3.3.2 Demographic Analysis of RFM Segments"
   ]
  },
  {
   "cell_type": "code",
   "execution_count": 45,
   "metadata": {},
   "outputs": [
    {
     "name": "stdout",
     "output_type": "stream",
     "text": [
      "Dataframe shape: (1371980, 7)\n"
     ]
    },
    {
     "data": {
      "text/html": [
       "<div>\n",
       "<style scoped>\n",
       "    .dataframe tbody tr th:only-of-type {\n",
       "        vertical-align: middle;\n",
       "    }\n",
       "\n",
       "    .dataframe tbody tr th {\n",
       "        vertical-align: top;\n",
       "    }\n",
       "\n",
       "    .dataframe thead th {\n",
       "        text-align: right;\n",
       "    }\n",
       "</style>\n",
       "<table border=\"1\" class=\"dataframe\">\n",
       "  <thead>\n",
       "    <tr style=\"text-align: right;\">\n",
       "      <th></th>\n",
       "      <th>customer_id</th>\n",
       "      <th>FN</th>\n",
       "      <th>Active</th>\n",
       "      <th>club_member_status</th>\n",
       "      <th>fashion_news_frequency</th>\n",
       "      <th>age</th>\n",
       "      <th>postal_code</th>\n",
       "    </tr>\n",
       "  </thead>\n",
       "  <tbody>\n",
       "    <tr>\n",
       "      <th>0</th>\n",
       "      <td>00000dbacae5abe5e23885899a1fa44253a17956c6d1c3...</td>\n",
       "      <td>NaN</td>\n",
       "      <td>NaN</td>\n",
       "      <td>ACTIVE</td>\n",
       "      <td>NONE</td>\n",
       "      <td>49.0</td>\n",
       "      <td>52043ee2162cf5aa7ee79974281641c6f11a68d276429a...</td>\n",
       "    </tr>\n",
       "    <tr>\n",
       "      <th>1</th>\n",
       "      <td>0000423b00ade91418cceaf3b26c6af3dd342b51fd051e...</td>\n",
       "      <td>NaN</td>\n",
       "      <td>NaN</td>\n",
       "      <td>ACTIVE</td>\n",
       "      <td>NONE</td>\n",
       "      <td>25.0</td>\n",
       "      <td>2973abc54daa8a5f8ccfe9362140c63247c5eee03f1d93...</td>\n",
       "    </tr>\n",
       "    <tr>\n",
       "      <th>2</th>\n",
       "      <td>000058a12d5b43e67d225668fa1f8d618c13dc232df0ca...</td>\n",
       "      <td>NaN</td>\n",
       "      <td>NaN</td>\n",
       "      <td>ACTIVE</td>\n",
       "      <td>NONE</td>\n",
       "      <td>24.0</td>\n",
       "      <td>64f17e6a330a85798e4998f62d0930d14db8db1c054af6...</td>\n",
       "    </tr>\n",
       "    <tr>\n",
       "      <th>3</th>\n",
       "      <td>00005ca1c9ed5f5146b52ac8639a40ca9d57aeff4d1bd2...</td>\n",
       "      <td>NaN</td>\n",
       "      <td>NaN</td>\n",
       "      <td>ACTIVE</td>\n",
       "      <td>NONE</td>\n",
       "      <td>54.0</td>\n",
       "      <td>5d36574f52495e81f019b680c843c443bd343d5ca5b1c2...</td>\n",
       "    </tr>\n",
       "    <tr>\n",
       "      <th>4</th>\n",
       "      <td>00006413d8573cd20ed7128e53b7b13819fe5cfc2d801f...</td>\n",
       "      <td>1.0</td>\n",
       "      <td>1.0</td>\n",
       "      <td>ACTIVE</td>\n",
       "      <td>Regularly</td>\n",
       "      <td>52.0</td>\n",
       "      <td>25fa5ddee9aac01b35208d01736e57942317d756b32ddd...</td>\n",
       "    </tr>\n",
       "  </tbody>\n",
       "</table>\n",
       "</div>"
      ],
      "text/plain": [
       "                                         customer_id   FN  Active  \\\n",
       "0  00000dbacae5abe5e23885899a1fa44253a17956c6d1c3...  NaN     NaN   \n",
       "1  0000423b00ade91418cceaf3b26c6af3dd342b51fd051e...  NaN     NaN   \n",
       "2  000058a12d5b43e67d225668fa1f8d618c13dc232df0ca...  NaN     NaN   \n",
       "3  00005ca1c9ed5f5146b52ac8639a40ca9d57aeff4d1bd2...  NaN     NaN   \n",
       "4  00006413d8573cd20ed7128e53b7b13819fe5cfc2d801f...  1.0     1.0   \n",
       "\n",
       "  club_member_status fashion_news_frequency   age  \\\n",
       "0             ACTIVE                   NONE  49.0   \n",
       "1             ACTIVE                   NONE  25.0   \n",
       "2             ACTIVE                   NONE  24.0   \n",
       "3             ACTIVE                   NONE  54.0   \n",
       "4             ACTIVE              Regularly  52.0   \n",
       "\n",
       "                                         postal_code  \n",
       "0  52043ee2162cf5aa7ee79974281641c6f11a68d276429a...  \n",
       "1  2973abc54daa8a5f8ccfe9362140c63247c5eee03f1d93...  \n",
       "2  64f17e6a330a85798e4998f62d0930d14db8db1c054af6...  \n",
       "3  5d36574f52495e81f019b680c843c443bd343d5ca5b1c2...  \n",
       "4  25fa5ddee9aac01b35208d01736e57942317d756b32ddd...  "
      ]
     },
     "execution_count": 45,
     "metadata": {},
     "output_type": "execute_result"
    }
   ],
   "source": [
    "customers = pd.read_csv('data/customers.csv')\n",
    "print('Dataframe shape:',customers.shape)\n",
    "customers.head()"
   ]
  },
  {
   "cell_type": "code",
   "execution_count": 46,
   "metadata": {},
   "outputs": [
    {
     "name": "stdout",
     "output_type": "stream",
     "text": [
      "Dataframe shape: (1362281, 7)\n"
     ]
    },
    {
     "data": {
      "text/html": [
       "<div>\n",
       "<style scoped>\n",
       "    .dataframe tbody tr th:only-of-type {\n",
       "        vertical-align: middle;\n",
       "    }\n",
       "\n",
       "    .dataframe tbody tr th {\n",
       "        vertical-align: top;\n",
       "    }\n",
       "\n",
       "    .dataframe thead th {\n",
       "        text-align: right;\n",
       "    }\n",
       "</style>\n",
       "<table border=\"1\" class=\"dataframe\">\n",
       "  <thead>\n",
       "    <tr style=\"text-align: right;\">\n",
       "      <th></th>\n",
       "      <th>customer_id</th>\n",
       "      <th>Active</th>\n",
       "      <th>club_member_status</th>\n",
       "      <th>fashion_news_frequency</th>\n",
       "      <th>age</th>\n",
       "      <th>postal_code</th>\n",
       "      <th>rfm_label</th>\n",
       "    </tr>\n",
       "  </thead>\n",
       "  <tbody>\n",
       "    <tr>\n",
       "      <th>0</th>\n",
       "      <td>00000dbacae5abe5e23885899a1fa44253a17956c6d1c3...</td>\n",
       "      <td>NaN</td>\n",
       "      <td>ACTIVE</td>\n",
       "      <td>NONE</td>\n",
       "      <td>49.0</td>\n",
       "      <td>52043ee2162cf5aa7ee79974281641c6f11a68d276429a...</td>\n",
       "      <td>Champions</td>\n",
       "    </tr>\n",
       "    <tr>\n",
       "      <th>1</th>\n",
       "      <td>0000423b00ade91418cceaf3b26c6af3dd342b51fd051e...</td>\n",
       "      <td>NaN</td>\n",
       "      <td>ACTIVE</td>\n",
       "      <td>NONE</td>\n",
       "      <td>25.0</td>\n",
       "      <td>2973abc54daa8a5f8ccfe9362140c63247c5eee03f1d93...</td>\n",
       "      <td>Champions</td>\n",
       "    </tr>\n",
       "    <tr>\n",
       "      <th>2</th>\n",
       "      <td>000058a12d5b43e67d225668fa1f8d618c13dc232df0ca...</td>\n",
       "      <td>NaN</td>\n",
       "      <td>ACTIVE</td>\n",
       "      <td>NONE</td>\n",
       "      <td>24.0</td>\n",
       "      <td>64f17e6a330a85798e4998f62d0930d14db8db1c054af6...</td>\n",
       "      <td>Loyal</td>\n",
       "    </tr>\n",
       "    <tr>\n",
       "      <th>3</th>\n",
       "      <td>00005ca1c9ed5f5146b52ac8639a40ca9d57aeff4d1bd2...</td>\n",
       "      <td>NaN</td>\n",
       "      <td>ACTIVE</td>\n",
       "      <td>NONE</td>\n",
       "      <td>54.0</td>\n",
       "      <td>5d36574f52495e81f019b680c843c443bd343d5ca5b1c2...</td>\n",
       "      <td>Needs attention</td>\n",
       "    </tr>\n",
       "    <tr>\n",
       "      <th>4</th>\n",
       "      <td>00006413d8573cd20ed7128e53b7b13819fe5cfc2d801f...</td>\n",
       "      <td>1.0</td>\n",
       "      <td>ACTIVE</td>\n",
       "      <td>Regularly</td>\n",
       "      <td>52.0</td>\n",
       "      <td>25fa5ddee9aac01b35208d01736e57942317d756b32ddd...</td>\n",
       "      <td>Loyal</td>\n",
       "    </tr>\n",
       "  </tbody>\n",
       "</table>\n",
       "</div>"
      ],
      "text/plain": [
       "                                         customer_id  Active  \\\n",
       "0  00000dbacae5abe5e23885899a1fa44253a17956c6d1c3...     NaN   \n",
       "1  0000423b00ade91418cceaf3b26c6af3dd342b51fd051e...     NaN   \n",
       "2  000058a12d5b43e67d225668fa1f8d618c13dc232df0ca...     NaN   \n",
       "3  00005ca1c9ed5f5146b52ac8639a40ca9d57aeff4d1bd2...     NaN   \n",
       "4  00006413d8573cd20ed7128e53b7b13819fe5cfc2d801f...     1.0   \n",
       "\n",
       "  club_member_status fashion_news_frequency   age  \\\n",
       "0             ACTIVE                   NONE  49.0   \n",
       "1             ACTIVE                   NONE  25.0   \n",
       "2             ACTIVE                   NONE  24.0   \n",
       "3             ACTIVE                   NONE  54.0   \n",
       "4             ACTIVE              Regularly  52.0   \n",
       "\n",
       "                                         postal_code        rfm_label  \n",
       "0  52043ee2162cf5aa7ee79974281641c6f11a68d276429a...        Champions  \n",
       "1  2973abc54daa8a5f8ccfe9362140c63247c5eee03f1d93...        Champions  \n",
       "2  64f17e6a330a85798e4998f62d0930d14db8db1c054af6...            Loyal  \n",
       "3  5d36574f52495e81f019b680c843c443bd343d5ca5b1c2...  Needs attention  \n",
       "4  25fa5ddee9aac01b35208d01736e57942317d756b32ddd...            Loyal  "
      ]
     },
     "execution_count": 46,
     "metadata": {},
     "output_type": "execute_result"
    }
   ],
   "source": [
    "customers = customers.loc[:,['customer_id','Active','club_member_status','fashion_news_frequency','age','postal_code']]\n",
    "rfm_customers = customers.merge(df_rfm[['customer_id','rfm_label']], on='customer_id')\n",
    "print('Dataframe shape:',rfm_customers.shape)\n",
    "rfm_customers.head()"
   ]
  },
  {
   "cell_type": "code",
   "execution_count": null,
   "metadata": {},
   "outputs": [],
   "source": []
  }
 ],
 "metadata": {
  "kernelspec": {
   "display_name": "Python 3",
   "language": "python",
   "name": "python3"
  },
  "language_info": {
   "codemirror_mode": {
    "name": "ipython",
    "version": 3
   },
   "file_extension": ".py",
   "mimetype": "text/x-python",
   "name": "python",
   "nbconvert_exporter": "python",
   "pygments_lexer": "ipython3",
   "version": "3.7.4"
  }
 },
 "nbformat": 4,
 "nbformat_minor": 2
}
